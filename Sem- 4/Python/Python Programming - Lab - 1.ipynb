{
 "cells": [
  {
   "cell_type": "markdown",
   "metadata": {},
   "source": [
    "<a href='https://www.darshan.ac.in/'> <img src='https://www.darshan.ac.in/Content/media/DU_Logo.svg' width=\"250\" height=\"10\"/></a>\n",
    "<pre>\n",
    "<center><b><h1>Python Programming - 2301CS404</b></center>\n",
    "<center><b><h1>Lab - 1</b></center>    \n",
    "<pre>"
   ]
  },
  {
   "cell_type": "markdown",
   "metadata": {},
   "source": [
    "### 01) WAP to print “Hello World”"
   ]
  },
  {
   "cell_type": "code",
   "execution_count": 2,
   "metadata": {},
   "outputs": [
    {
     "name": "stdout",
     "output_type": "stream",
     "text": [
      "Hello World\n"
     ]
    }
   ],
   "source": [
    "print(\"Hello World\")"
   ]
  },
  {
   "cell_type": "markdown",
   "metadata": {},
   "source": [
    "### 02) WAP to print addition of two numbers with and without using input()."
   ]
  },
  {
   "cell_type": "code",
   "execution_count": 14,
   "metadata": {},
   "outputs": [
    {
     "name": "stdout",
     "output_type": "stream",
     "text": [
      "Without input\n",
      "2+3=5\n",
      "\n",
      "Without input\n"
     ]
    },
    {
     "name": "stdin",
     "output_type": "stream",
     "text": [
      "Enter any number:  5\n",
      "Enter any number:  6\n"
     ]
    },
    {
     "name": "stdout",
     "output_type": "stream",
     "text": [
      "5+6=11\n"
     ]
    }
   ],
   "source": [
    "print(\"Without input\")\n",
    "a=2\n",
    "b=3\n",
    "print(f\"{a}+{b}={a+b}\")\n",
    "print(\"\\nWithout input\")\n",
    "a1=int(input(\"Enter any number: \"))\n",
    "b1=int(input(\"Enter any number: \"))\n",
    "print(f\"{a1}+{b1}={a1+b1}\")"
   ]
  },
  {
   "cell_type": "markdown",
   "metadata": {},
   "source": [
    "### 03) WAP to check the type of the variable."
   ]
  },
  {
   "cell_type": "code",
   "execution_count": 18,
   "metadata": {},
   "outputs": [
    {
     "name": "stdin",
     "output_type": "stream",
     "text": [
      "Enter any variable:  5\n"
     ]
    },
    {
     "name": "stdout",
     "output_type": "stream",
     "text": [
      "<class 'int'>\n"
     ]
    },
    {
     "name": "stdin",
     "output_type": "stream",
     "text": [
      "Enter any variable:  9.3\n"
     ]
    },
    {
     "name": "stdout",
     "output_type": "stream",
     "text": [
      "<class 'float'>\n"
     ]
    },
    {
     "name": "stdin",
     "output_type": "stream",
     "text": [
      "Enter any variable:  vf3\n"
     ]
    },
    {
     "name": "stdout",
     "output_type": "stream",
     "text": [
      "<class 'str'>\n"
     ]
    },
    {
     "name": "stdin",
     "output_type": "stream",
     "text": [
      "Enter any variable:  \n"
     ]
    },
    {
     "name": "stdout",
     "output_type": "stream",
     "text": [
      "<class 'str'>\n"
     ]
    }
   ],
   "source": [
    "var1=int(input(\"Enter any variable: \"))\n",
    "print(type(var1))\n",
    "var2=float(input(\"Enter any variable: \"))\n",
    "print(type(var2))\n",
    "var3=input(\"Enter any variable: \")\n",
    "print(type(var3))\n",
    "var4=input(\"Enter any variable: \")\n",
    "print(type(var4))"
   ]
  },
  {
   "cell_type": "markdown",
   "metadata": {},
   "source": [
    "### 04) WAP to calculate simple interest."
   ]
  },
  {
   "cell_type": "code",
   "execution_count": 22,
   "metadata": {},
   "outputs": [
    {
     "name": "stdin",
     "output_type": "stream",
     "text": [
      "Enter principal amount:  5\n",
      "Enter rate of interest:  2\n",
      "Enter time period:  6\n"
     ]
    },
    {
     "name": "stdout",
     "output_type": "stream",
     "text": [
      "Simple Interest:  0.6\n"
     ]
    }
   ],
   "source": [
    "p=int(input(\"Enter principal amount: \"))\n",
    "r=int(input(\"Enter rate of interest: \"))\n",
    "t=int(input(\"Enter time period: \"))\n",
    "si=(p*r*t)/100\n",
    "print(\"Simple Interest: \",si)"
   ]
  },
  {
   "cell_type": "markdown",
   "metadata": {},
   "source": [
    "### 05) WAP to calculate area and perimeter of a circle."
   ]
  },
  {
   "cell_type": "code",
   "execution_count": 26,
   "metadata": {},
   "outputs": [
    {
     "name": "stdin",
     "output_type": "stream",
     "text": [
      "Enter radius of circle:  5\n"
     ]
    },
    {
     "name": "stdout",
     "output_type": "stream",
     "text": [
      "Perimeter:  31.400000000000002\n",
      "Area:  78.5\n"
     ]
    }
   ],
   "source": [
    "radius=int(input(\"Enter radius of circle: \"))\n",
    "perimeter=3.14*2*radius\n",
    "print(\"Perimeter: \",perimeter)\n",
    "area=3.14*radius*radius\n",
    "print(\"Area: \",area)"
   ]
  },
  {
   "cell_type": "markdown",
   "metadata": {},
   "source": [
    "### 06) WAP to calculate area of a triangle."
   ]
  },
  {
   "cell_type": "code",
   "execution_count": 28,
   "metadata": {},
   "outputs": [
    {
     "name": "stdin",
     "output_type": "stream",
     "text": [
      "Enter base:  6\n",
      "Enter height:  3\n"
     ]
    },
    {
     "name": "stdout",
     "output_type": "stream",
     "text": [
      "Area of Triangle:  9.0\n"
     ]
    }
   ],
   "source": [
    "base=int(input(\"Enter base: \"))\n",
    "height=int(input(\"Enter height: \"))\n",
    "areaTriangle=(base*height)/2\n",
    "print(\"Area of Triangle: \",areaTriangle)"
   ]
  },
  {
   "cell_type": "markdown",
   "metadata": {},
   "source": [
    "### 07) WAP to compute quotient and remainder."
   ]
  },
  {
   "cell_type": "code",
   "execution_count": 30,
   "metadata": {},
   "outputs": [
    {
     "name": "stdin",
     "output_type": "stream",
     "text": [
      "Enter dividend:  7\n",
      "Enter divisor:  2\n"
     ]
    },
    {
     "name": "stdout",
     "output_type": "stream",
     "text": [
      "Quotient:  3\n",
      "Remainder:  1\n"
     ]
    }
   ],
   "source": [
    "dividend=int(input(\"Enter dividend: \"))\n",
    "divisor=int(input(\"Enter divisor: \"))\n",
    "quotient=int(dividend/divisor)\n",
    "print(\"Quotient: \",quotient)\n",
    "remainder=dividend%divisor\n",
    "print(\"Remainder: \",remainder)"
   ]
  },
  {
   "cell_type": "markdown",
   "metadata": {},
   "source": [
    "### 08) WAP to convert degree into Fahrenheit and vice versa."
   ]
  },
  {
   "cell_type": "code",
   "execution_count": 36,
   "metadata": {},
   "outputs": [
    {
     "name": "stdin",
     "output_type": "stream",
     "text": [
      "Enter temperature in Fahrenheit:  0\n"
     ]
    },
    {
     "name": "stdout",
     "output_type": "stream",
     "text": [
      "In Celsius:  -17.77777777777778\n"
     ]
    },
    {
     "name": "stdin",
     "output_type": "stream",
     "text": [
      "\n",
      "Enter temperature in Celsius:  100\n"
     ]
    },
    {
     "name": "stdout",
     "output_type": "stream",
     "text": [
      "In Fahrenheit:  212.0\n"
     ]
    }
   ],
   "source": [
    "f=int(input(\"Enter temperature in Fahrenheit: \"))\n",
    "c=(f-32)*(5/9)\n",
    "print(\"In Celsius: \",c)\n",
    "C=int(input(\"\\nEnter temperature in Celsius: \"))\n",
    "F=(C*(9/5))+32\n",
    "print(\"In Fahrenheit: \",F)"
   ]
  },
  {
   "cell_type": "markdown",
   "metadata": {},
   "source": [
    "### 09) WAP to find the distance between two points in 2-D space."
   ]
  },
  {
   "cell_type": "code",
   "execution_count": 40,
   "metadata": {},
   "outputs": [
    {
     "name": "stdout",
     "output_type": "stream",
     "text": [
      "Point 1\n"
     ]
    },
    {
     "name": "stdin",
     "output_type": "stream",
     "text": [
      "Enter X coordinate:  2\n",
      "Enter Y coordinate:  3\n"
     ]
    },
    {
     "name": "stdout",
     "output_type": "stream",
     "text": [
      "\n",
      "Point 1\n"
     ]
    },
    {
     "name": "stdin",
     "output_type": "stream",
     "text": [
      "Enter X coordinate:  6\n",
      "Enter Y coordinate:  2\n"
     ]
    },
    {
     "name": "stdout",
     "output_type": "stream",
     "text": [
      "\n",
      "Distance:  4.123105625617661\n"
     ]
    }
   ],
   "source": [
    "print(\"Point 1\")\n",
    "x1=int(input(\"Enter X coordinate: \"))\n",
    "y1=int(input(\"Enter Y coordinate: \"))\n",
    "print(\"\\nPoint 1\")\n",
    "x2=int(input(\"Enter X coordinate: \"))\n",
    "y2=int(input(\"Enter Y coordinate: \"))\n",
    "distance=((x2-x1)**2+(y2-y1)**2)**0.5\n",
    "print(\"\\nDistance: \",distance)"
   ]
  },
  {
   "cell_type": "markdown",
   "metadata": {},
   "source": [
    "### 10) WAP to print sum of n natural numbers."
   ]
  },
  {
   "cell_type": "code",
   "execution_count": 42,
   "metadata": {},
   "outputs": [
    {
     "name": "stdin",
     "output_type": "stream",
     "text": [
      "Enter n:  4\n"
     ]
    },
    {
     "name": "stdout",
     "output_type": "stream",
     "text": [
      "Sum of 4 natural numbers:  10.0\n"
     ]
    }
   ],
   "source": [
    "n=int(input(\"Enter n: \"))\n",
    "sum=(n*(n+1))/2\n",
    "print(f\"Sum of {n} natural numbers: \",sum)"
   ]
  },
  {
   "cell_type": "markdown",
   "metadata": {},
   "source": [
    "### 11) WAP to print sum of square of n natural numbers."
   ]
  },
  {
   "cell_type": "code",
   "execution_count": 46,
   "metadata": {},
   "outputs": [
    {
     "name": "stdin",
     "output_type": "stream",
     "text": [
      "Enter n:  4\n"
     ]
    },
    {
     "name": "stdout",
     "output_type": "stream",
     "text": [
      "Sum of 4 natural numbers:  30.0\n"
     ]
    }
   ],
   "source": [
    "num=int(input(\"Enter n: \"))\n",
    "sumSquare=(num*(num+1)*(2*num+1))/6\n",
    "print(f\"Sum of {num} natural numbers: \",sumSquare)"
   ]
  },
  {
   "cell_type": "markdown",
   "metadata": {},
   "source": [
    "### 12) WAP to concate the first and last name of the student."
   ]
  },
  {
   "cell_type": "code",
   "execution_count": 48,
   "metadata": {},
   "outputs": [
    {
     "name": "stdin",
     "output_type": "stream",
     "text": [
      "Enter first name:  Bhoomi\n",
      "Enter last name:  Tulsiyani\n"
     ]
    },
    {
     "name": "stdout",
     "output_type": "stream",
     "text": [
      "Bhoomi Tulsiyani\n"
     ]
    }
   ],
   "source": [
    "first=input(\"Enter first name: \")\n",
    "last=input(\"Enter last name: \")\n",
    "print(first,end=\" \")\n",
    "print(last)"
   ]
  },
  {
   "cell_type": "markdown",
   "metadata": {},
   "source": [
    "### 13) WAP to swap two numbers."
   ]
  },
  {
   "cell_type": "code",
   "execution_count": 52,
   "metadata": {},
   "outputs": [
    {
     "name": "stdin",
     "output_type": "stream",
     "text": [
      "Enter Number 1:  5\n",
      "Enter Number 2:  2\n"
     ]
    },
    {
     "name": "stdout",
     "output_type": "stream",
     "text": [
      "Number 1: 5   Number 2: 2\n",
      "Number 1: 2   Number 2: 5\n"
     ]
    }
   ],
   "source": [
    "num1=int(input(\"Enter Number 1: \"))\n",
    "num2=int(input(\"Enter Number 2: \"))\n",
    "print(f'Number 1: {num1}',end=\"   \")\n",
    "print(f'Number 2: {num2}')\n",
    "temp=num1\n",
    "num1=num2\n",
    "num2=temp\n",
    "print(f'Number 1: {num1}',end=\"   \")\n",
    "print(f'Number 2: {num2}')"
   ]
  },
  {
   "cell_type": "markdown",
   "metadata": {},
   "source": [
    "### 14) WAP to get the distance from user into kilometer, and convert it into meter, feet, inches and centimeter."
   ]
  },
  {
   "cell_type": "code",
   "execution_count": 54,
   "metadata": {},
   "outputs": [
    {
     "name": "stdin",
     "output_type": "stream",
     "text": [
      "Enter distance in kilometer:  3\n"
     ]
    },
    {
     "name": "stdout",
     "output_type": "stream",
     "text": [
      "Meter: 3000\n",
      "Feet: 9843.0\n",
      "Inch: 118116.0\n",
      "Centimeter: 300000\n"
     ]
    }
   ],
   "source": [
    "km=int(input(\"Enter distance in kilometer: \"))\n",
    "m=km*1000\n",
    "feet=m*3.281\n",
    "inch=feet*12\n",
    "cm=m*100\n",
    "print(f\"Meter: {m}\")\n",
    "print(f\"Feet: {feet}\")\n",
    "print(f\"Inch: {inch}\")\n",
    "print(f\"Centimeter: {cm}\")"
   ]
  },
  {
   "cell_type": "markdown",
   "metadata": {},
   "source": [
    "### 15) WAP to get day, month and year from the user and print the date in the given format: 23-11-2024."
   ]
  },
  {
   "cell_type": "code",
   "execution_count": 60,
   "metadata": {},
   "outputs": [
    {
     "name": "stdin",
     "output_type": "stream",
     "text": [
      "Enter day:  5\n",
      "Enter month:  6\n",
      "Enter year:  2\n"
     ]
    },
    {
     "name": "stdout",
     "output_type": "stream",
     "text": [
      "Date: 5-6-2\n"
     ]
    }
   ],
   "source": [
    "day=int(input(\"Enter day: \"))\n",
    "month=int(input(\"Enter month: \"))\n",
    "year=int(input(\"Enter year: \"))\n",
    "print(\"Date: \",end=\"\")\n",
    "print(day,month,year,sep='-')"
   ]
  },
  {
   "cell_type": "code",
   "execution_count": null,
   "metadata": {},
   "outputs": [],
   "source": []
  }
 ],
 "metadata": {
  "kernelspec": {
   "display_name": "Python 3 (ipykernel)",
   "language": "python",
   "name": "python3"
  },
  "language_info": {
   "codemirror_mode": {
    "name": "ipython",
    "version": 3
   },
   "file_extension": ".py",
   "mimetype": "text/x-python",
   "name": "python",
   "nbconvert_exporter": "python",
   "pygments_lexer": "ipython3",
   "version": "3.12.7"
  },
  "vscode": {
   "interpreter": {
    "hash": "31f2aee4e71d21fbe5cf8b01ff0e069b9275f58929596ceb00d14d90e3e16cd6"
   }
  }
 },
 "nbformat": 4,
 "nbformat_minor": 4
}
