{
 "cells": [
  {
   "cell_type": "markdown",
   "metadata": {},
   "source": [
    "<a href='https://www.darshan.ac.in/'> <img src='https://www.darshan.ac.in/Content/media/DU_Logo.svg' width=\"250\" height=\"300\"/></a>\n",
    "<pre>\n",
    "<center><b><h1>Bhoomi Tulsiyani | 23010101275</b></center>\n",
    "<center><b><h1>Python Programming - 2301CS404</b></center>\n",
    "<center><b><h1>Lab - 13</b></center>    \n",
    "<pre>"
   ]
  },
  {
   "cell_type": "markdown",
   "metadata": {},
   "source": [
    "## Continued.."
   ]
  },
  {
   "cell_type": "markdown",
   "metadata": {},
   "source": [
    "### 10) Calculate area of a ractangle using object as an argument to a method."
   ]
  },
  {
   "cell_type": "code",
   "execution_count": 1,
   "metadata": {},
   "outputs": [
    {
     "name": "stdout",
     "output_type": "stream",
     "text": [
      "Area: 10\n"
     ]
    }
   ],
   "source": [
    "class Rectangle:\n",
    "    def __init__(self,l,b):\n",
    "        self.l=l\n",
    "        self.b=b\n",
    "        \n",
    "def areaRect(obj):\n",
    "    return obj.l*obj.b\n",
    "\n",
    "rect=Rectangle(2,5)\n",
    "area=areaRect(rect)\n",
    "print(f\"Area: {area}\")"
   ]
  },
  {
   "cell_type": "markdown",
   "metadata": {},
   "source": [
    "### 11) Calculate the area of a square. \n",
    "### Include a Constructor, a method to calculate area named area() and a method named output() that prints the output and is invoked by area()."
   ]
  },
  {
   "cell_type": "code",
   "execution_count": 2,
   "metadata": {},
   "outputs": [
    {
     "name": "stdout",
     "output_type": "stream",
     "text": [
      "25\n"
     ]
    }
   ],
   "source": [
    "class Square:\n",
    "    def __init__(self,x):\n",
    "        self.x=x\n",
    "    def area(self):\n",
    "        self.area=self.x*self.x\n",
    "    def output(self):\n",
    "        print(self.area)\n",
    "        \n",
    "sq=Square(5)\n",
    "sq.area()\n",
    "sq.output()"
   ]
  },
  {
   "cell_type": "markdown",
   "metadata": {},
   "source": [
    "### 12) Calculate the area of a rectangle. \n",
    "### Include a Constructor, a method to calculate area named area() and a method named output() that prints the output and is invoked by area().\n",
    "### Also define a class method that compares the two sides of reactangle. An object is instantiated only if the two sides are different; otherwise a message should be displayed : THIS IS SQUARE."
   ]
  },
  {
   "cell_type": "code",
   "execution_count": 9,
   "metadata": {},
   "outputs": [
    {
     "name": "stdout",
     "output_type": "stream",
     "text": [
      "30\n"
     ]
    }
   ],
   "source": [
    "class Rectangle:\n",
    "    def __init__(self,l,b):\n",
    "        self.l=l\n",
    "        self.b=b\n",
    "    def area(self):\n",
    "        self.area=self.l*self.b\n",
    "    def output(self):\n",
    "        print(self.area)\n",
    "    @classmethod\n",
    "    def compare(cls,l,b):\n",
    "        return l==b\n",
    "\n",
    "l=5\n",
    "b=6\n",
    "if Rectangle.compare(l,b):\n",
    "    print(\"THIS IS SQUARE\")\n",
    "else:\n",
    "    sq=Rectangle(l,b)\n",
    "    sq.area()\n",
    "    sq.output()"
   ]
  },
  {
   "cell_type": "markdown",
   "metadata": {},
   "source": [
    "### 13) Define a class Square having a private attribute \"side\". \n",
    "### Implement get_side and set_side methods to accees the private attribute from outside of the class."
   ]
  },
  {
   "cell_type": "code",
   "execution_count": 10,
   "metadata": {},
   "outputs": [
    {
     "name": "stdout",
     "output_type": "stream",
     "text": [
      "5\n"
     ]
    }
   ],
   "source": [
    "class Square:\n",
    "    def set_side(self,x):\n",
    "        self.__side=x\n",
    "    def get_side(self):\n",
    "        return self.__side\n",
    "\n",
    "a=Square()\n",
    "a.set_side(5)\n",
    "print(a.get_side())"
   ]
  },
  {
   "cell_type": "markdown",
   "metadata": {},
   "source": [
    "### 14) Create a class Profit that has a method named getProfit that accepts profit from the user.\n",
    "### Create a class Loss that has a method named getLoss that accepts loss from the user.\n",
    "### Create a class BalanceSheet that inherits from both classes Profit and Loss and calculates the balanace. It has two methods getBalance() and printBalance()."
   ]
  },
  {
   "cell_type": "code",
   "execution_count": 23,
   "metadata": {},
   "outputs": [
    {
     "name": "stdout",
     "output_type": "stream",
     "text": [
      "Enter Profit:1500\n",
      "Enter Loss:1000\n",
      "500\n"
     ]
    }
   ],
   "source": [
    "class Profit:\n",
    "    def getProfit(self):\n",
    "        self.profit=int(input(\"Enter Profit:\"))\n",
    "\n",
    "class Loss:\n",
    "    def getLoss(self):\n",
    "        self.loss=int(input(\"Enter Loss:\"))\n",
    "\n",
    "class BalanceSheet(Profit,Loss):\n",
    "    def getBalance(self):\n",
    "        self.balance=self.profit-self.loss\n",
    "    def printBalance(self):\n",
    "        print(self.balance)\n",
    "        \n",
    "\n",
    "b=BalanceSheet()\n",
    "b.getProfit()\n",
    "b.getLoss()\n",
    "b.getBalance()\n",
    "b.printBalance()"
   ]
  },
  {
   "cell_type": "markdown",
   "metadata": {},
   "source": [
    "### 15) WAP to demonstrate all types of inheritance."
   ]
  },
  {
   "cell_type": "code",
   "execution_count": 4,
   "metadata": {},
   "outputs": [
    {
     "name": "stdout",
     "output_type": "stream",
     "text": [
      "Single Inheritance\n",
      "1\n",
      "2\n",
      "Multilevel Inheritance\n",
      "1\n",
      "2\n",
      "3\n",
      "Multiple Inheritance\n",
      "1\n",
      "2\n",
      "3\n",
      "Hierarchical Inheritance\n",
      "1\n",
      "2\n",
      "3\n",
      "4\n",
      "Hybrid Inheritance\n",
      "1\n",
      "2\n",
      "1\n",
      "3\n",
      "4\n"
     ]
    }
   ],
   "source": [
    "# Single Inheritance\n",
    "class A:\n",
    "    def __init__(self, a):\n",
    "        self.a = a\n",
    "        print(self.a)\n",
    "\n",
    "class B(A):\n",
    "    def __init__(self, a, b):\n",
    "        A.__init__(self, a)\n",
    "        self.b = b\n",
    "        print(self.b)\n",
    "\n",
    "print('Single Inheritance')\n",
    "b1 = B(1, 2)\n",
    "\n",
    "\n",
    "# Multilevel Inheritance\n",
    "class C:\n",
    "    def __init__(self, a):\n",
    "        self.a = a\n",
    "        print(self.a)\n",
    "\n",
    "class D(C):\n",
    "    def __init__(self, a, b):\n",
    "        C.__init__(self, a)\n",
    "        self.b = b\n",
    "        print(self.b)\n",
    "\n",
    "class E(D):\n",
    "    def __init__(self, a, b, c):\n",
    "        D.__init__(self, a, b)\n",
    "        self.c = c\n",
    "        print(self.c)\n",
    "\n",
    "print('Multilevel Inheritance')\n",
    "e1 = E(1, 2, 3)\n",
    "\n",
    "\n",
    "# Multiple Inheritance\n",
    "class F:\n",
    "    def __init__(self, x):\n",
    "        self.x = x\n",
    "        print(self.x)\n",
    "\n",
    "class G:\n",
    "    def __init__(self, y):\n",
    "        self.y = y\n",
    "        print(self.y)\n",
    "\n",
    "class H(F, G):\n",
    "    def __init__(self, x, y, z):\n",
    "        F.__init__(self, x)\n",
    "        G.__init__(self, y)\n",
    "        self.z = z\n",
    "        print(self.z)\n",
    "\n",
    "print('Multiple Inheritance')\n",
    "h1 = H(1, 2, 3)\n",
    "\n",
    "\n",
    "# Hierarchical Inheritance\n",
    "class I:\n",
    "    def __init__(self, a):\n",
    "        self.a = a\n",
    "        print(self.a)\n",
    "\n",
    "class J(I):  # Child 1 of I\n",
    "    def __init__(self, a, b):\n",
    "        I.__init__(self, a)\n",
    "        self.b = b\n",
    "        print(self.b)\n",
    "\n",
    "class K(I):  # Child 2 of I\n",
    "    def __init__(self, a, c):\n",
    "        I.__init__(self, a)\n",
    "        self.c = c\n",
    "        print(self.c)\n",
    "\n",
    "print('Hierarchical Inheritance')\n",
    "j1 = J(1, 2)\n",
    "k1 = K(3, 4)\n",
    "\n",
    "\n",
    "# Hybrid Inheritance\n",
    "class L:\n",
    "    def __init__(self, l):\n",
    "        self.l = l\n",
    "        print(self.l)\n",
    "\n",
    "class M(L):\n",
    "    def __init__(self, l, m):\n",
    "        L.__init__(self, l)\n",
    "        self.m = m\n",
    "        print(self.m)\n",
    "\n",
    "class N(L):\n",
    "    def __init__(self, l, n):\n",
    "        L.__init__(self, l)\n",
    "        self.n = n\n",
    "        print(self.n)\n",
    "\n",
    "class O(M, N):\n",
    "    def __init__(self, l, m, n, o):\n",
    "        M.__init__(self, l, m)\n",
    "        N.__init__(self, l, n)\n",
    "        self.o = o\n",
    "        print(self.o)\n",
    "\n",
    "print('Hybrid Inheritance')\n",
    "o1 = O(1, 2, 3, 4)"
   ]
  },
  {
   "cell_type": "markdown",
   "metadata": {},
   "source": [
    "### 16) Create a Person class with a constructor that takes two arguments name and age. \n",
    "### Create a child class Employee that inherits from Person and adds a new attribute salary. \n",
    "### Override the __init__ method in Employee to call the parent class's __init__ method using the super() and then initialize the salary attribute."
   ]
  },
  {
   "cell_type": "code",
   "execution_count": 45,
   "metadata": {},
   "outputs": [
    {
     "name": "stdout",
     "output_type": "stream",
     "text": [
      "Bhoomi\n",
      "19\n",
      "30000\n"
     ]
    }
   ],
   "source": [
    "class Person:\n",
    "    def __init__(self,name,age):\n",
    "        self.name=name\n",
    "        self.age=age\n",
    "        \n",
    "class Employee(Person):\n",
    "    def __init__(self,name,age,salary):\n",
    "        super().__init__(name,age)\n",
    "        self.salary=salary\n",
    "    def display(self):\n",
    "        print(self.name)\n",
    "        print(self.age)\n",
    "        print(self.salary)\n",
    "        \n",
    "        \n",
    "e=Employee('Bhoomi',19,30000)\n",
    "e.display()"
   ]
  },
  {
   "cell_type": "markdown",
   "metadata": {},
   "source": [
    "### 17) Create a Shape class with a draw method that is not implemented. \n",
    "### Create three child classes Rectangle, Circle, and Triangle that implement the draw method with their respective drawing behaviors. \n",
    "### Create a list of Shape objects that includes one instance of each child class, and then iterate through the list and call the draw method on each object."
   ]
  },
  {
   "cell_type": "code",
   "execution_count": 43,
   "metadata": {},
   "outputs": [
    {
     "name": "stdout",
     "output_type": "stream",
     "text": [
      "draw(): Rectangle\n",
      "draw(): Circle\n",
      "draw(): Triangle\n"
     ]
    }
   ],
   "source": [
    "from abc import ABC, abstractmethod\n",
    "\n",
    "class Shape(ABC):\n",
    "    @abstractmethod\n",
    "    def draw(self):\n",
    "        pass\n",
    "\n",
    "class Rectangle(Shape):\n",
    "    def draw(self):\n",
    "        print(\"draw(): Rectangle\")\n",
    "\n",
    "class Circle(Shape):\n",
    "    def draw(self):\n",
    "        print(\"draw(): Circle\")\n",
    "        \n",
    "class Triangle(Shape):\n",
    "    def draw(self):\n",
    "        print(\"draw(): Triangle\")\n",
    "        \n",
    "    \n",
    "l1=[Rectangle(),Circle(),Triangle()]\n",
    "for i in l1:\n",
    "    i.draw()"
   ]
  }
 ],
 "metadata": {
  "kernelspec": {
   "display_name": "Python 3 (ipykernel)",
   "language": "python",
   "name": "python3"
  },
  "language_info": {
   "codemirror_mode": {
    "name": "ipython",
    "version": 3
   },
   "file_extension": ".py",
   "mimetype": "text/x-python",
   "name": "python",
   "nbconvert_exporter": "python",
   "pygments_lexer": "ipython3",
   "version": "3.12.7"
  }
 },
 "nbformat": 4,
 "nbformat_minor": 4
}
