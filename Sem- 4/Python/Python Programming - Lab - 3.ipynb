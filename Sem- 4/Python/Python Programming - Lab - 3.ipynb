{
 "cells": [
  {
   "cell_type": "markdown",
   "metadata": {},
   "source": [
    "\n",
    "<a href='https://www.darshan.ac.in/'> <img src='https://www.darshan.ac.in/Content/media/DU_Logo.svg' width=\"250\" height=\"300\"/></a>\n",
    "<pre>\n",
    "<center><b><h1>Python Programming - 2301CS404</b></center>\n",
    "<center><b><h1>Lab - 3</b></center>    \n",
    "<pre>"
   ]
  },
  {
   "cell_type": "markdown",
   "metadata": {},
   "source": [
    "# for and while loop"
   ]
  },
  {
   "cell_type": "markdown",
   "metadata": {},
   "source": [
    "### 01) WAP to print 1 to 10."
   ]
  },
  {
   "cell_type": "code",
   "execution_count": 12,
   "metadata": {},
   "outputs": [
    {
     "name": "stdout",
     "output_type": "stream",
     "text": [
      "Printing Numbers 1 to 10\n",
      "1 2 3 4 5 6 7 8 9 10 "
     ]
    }
   ],
   "source": [
    "print(\"Printing Numbers 1 to 10\");\n",
    "for i in range(1,11):\n",
    "    print(i,end=\" \");"
   ]
  },
  {
   "cell_type": "markdown",
   "metadata": {},
   "source": [
    "### 02) WAP to print 1 to n."
   ]
  },
  {
   "cell_type": "code",
   "execution_count": 13,
   "metadata": {},
   "outputs": [
    {
     "name": "stdout",
     "output_type": "stream",
     "text": [
      "Printing Numbers 1 to n\n",
      "Enter any number: 9\n",
      "1 2 3 4 5 6 7 8 9 "
     ]
    }
   ],
   "source": [
    "print(\"Printing Numbers 1 to n\");\n",
    "n=int(input(\"Enter any number: \"));\n",
    "for i in range(1,n+1):\n",
    "    print(i,end=\" \");"
   ]
  },
  {
   "cell_type": "markdown",
   "metadata": {},
   "source": [
    "### 03) WAP to print odd numbers between 1 to n."
   ]
  },
  {
   "cell_type": "code",
   "execution_count": 14,
   "metadata": {},
   "outputs": [
    {
     "name": "stdout",
     "output_type": "stream",
     "text": [
      "Printing Odd Numbers 1 to n\n",
      "Enter any number: 9\n",
      "1 3 5 7 9 "
     ]
    }
   ],
   "source": [
    "print(\"Printing Odd Numbers 1 to n\");\n",
    "num=int(input(\"Enter any number: \"));\n",
    "for i in range(1,num+1):\n",
    "    if(i%2!=0):\n",
    "        print(i,end=\" \");"
   ]
  },
  {
   "cell_type": "markdown",
   "metadata": {},
   "source": [
    "### 04) WAP to print numbers between two given numbers which is divisible by 2 but not divisible by 3."
   ]
  },
  {
   "cell_type": "code",
   "execution_count": 16,
   "metadata": {},
   "outputs": [
    {
     "name": "stdout",
     "output_type": "stream",
     "text": [
      "Numbers in a range divisible by 2 but not 3\n",
      "Enter Number 1: 9\n",
      "Enter Number 2: 2\n",
      "2 4 8 "
     ]
    }
   ],
   "source": [
    "print(\"Numbers in a range divisible by 2 but not 3\");\n",
    "a=int(input(\"Enter Number 1: \"));\n",
    "b=int(input(\"Enter Number 2: \"));\n",
    "if(a>b):\n",
    "    temp=a;\n",
    "    a=b;\n",
    "    b=temp;\n",
    "for i in range(a,b+1):\n",
    "    if(i%2==0 and i%3!=0):\n",
    "        print(i,end=\" \");"
   ]
  },
  {
   "cell_type": "markdown",
   "metadata": {},
   "source": [
    "### 05) WAP to print sum of 1 to n numbers."
   ]
  },
  {
   "cell_type": "code",
   "execution_count": 17,
   "metadata": {},
   "outputs": [
    {
     "name": "stdout",
     "output_type": "stream",
     "text": [
      "Sum of Numbers 1 to n\n",
      "Enter any number: 5\n",
      "Sum: 15\n"
     ]
    }
   ],
   "source": [
    "print(\"Sum of Numbers 1 to n\");\n",
    "n=int(input(\"Enter any number: \"));\n",
    "sum=0;\n",
    "for i in range(1,n+1):\n",
    "    sum+=i;\n",
    "print(f\"Sum: {sum}\");"
   ]
  },
  {
   "cell_type": "markdown",
   "metadata": {},
   "source": [
    "### 06) WAP to print sum of series 1 + 4 + 9 + 16 + 25 + 36 + ...n."
   ]
  },
  {
   "cell_type": "code",
   "execution_count": 18,
   "metadata": {},
   "outputs": [
    {
     "name": "stdout",
     "output_type": "stream",
     "text": [
      "Sum of Squares of Numbers 1 to n\n",
      "Enter any number: 5\n",
      "Sum: 55\n"
     ]
    }
   ],
   "source": [
    "print(\"Sum of Squares of Numbers 1 to n\");\n",
    "n=int(input(\"Enter any number: \"));\n",
    "sum=0;\n",
    "for i in range(1,n+1):\n",
    "    sum+=(i**2);\n",
    "print(f\"Sum: {sum}\");"
   ]
  },
  {
   "cell_type": "markdown",
   "metadata": {},
   "source": [
    "### 07) WAP to print sum of series 1 – 2 + 3 – 4 + 5 – 6 + 7 ... n."
   ]
  },
  {
   "cell_type": "code",
   "execution_count": 19,
   "metadata": {},
   "outputs": [
    {
     "name": "stdout",
     "output_type": "stream",
     "text": [
      "Sum of Series: 1-2+3-4+...n\n",
      "Enter any number: 5\n",
      "Sum: 3\n"
     ]
    }
   ],
   "source": [
    "print(\"Sum of Series: 1-2+3-4+...n\");\n",
    "n=int(input(\"Enter any number: \"));\n",
    "sum=0;\n",
    "for i in range(1,n+1):\n",
    "    if(i%2==0):\n",
    "        sum-=i;\n",
    "    else:\n",
    "        sum+=i;\n",
    "print(f\"Sum: {sum}\");"
   ]
  },
  {
   "cell_type": "markdown",
   "metadata": {},
   "source": [
    "### 08) WAP to print multiplication table of given number."
   ]
  },
  {
   "cell_type": "code",
   "execution_count": 25,
   "metadata": {},
   "outputs": [
    {
     "name": "stdout",
     "output_type": "stream",
     "text": [
      "Multiplication Table\n",
      "Enter any number: 5\n",
      "5 * 1 = 5\n",
      "5 * 2 = 10\n",
      "5 * 3 = 15\n",
      "5 * 4 = 20\n",
      "5 * 5 = 25\n",
      "5 * 6 = 30\n",
      "5 * 7 = 35\n",
      "5 * 8 = 40\n",
      "5 * 9 = 45\n",
      "5 * 10 = 50\n"
     ]
    }
   ],
   "source": [
    "print(\"Multiplication Table\");\n",
    "n=int(input(\"Enter any number: \"));\n",
    "for i in range(1,11):\n",
    "    print(f\"{n} * {i} = {n*i}\");"
   ]
  },
  {
   "cell_type": "markdown",
   "metadata": {},
   "source": [
    "### 09) WAP to find factorial of the given number."
   ]
  },
  {
   "cell_type": "code",
   "execution_count": 29,
   "metadata": {},
   "outputs": [
    {
     "name": "stdout",
     "output_type": "stream",
     "text": [
      "Factorial of a Number\n",
      "Enter any number: 9\n",
      "9! = 362880\n"
     ]
    }
   ],
   "source": [
    "print(\"Factorial of a Number\");\n",
    "n=int(input(\"Enter any number: \"));\n",
    "fac=1;\n",
    "for i in range(1,n+1):\n",
    "    fac*=i;\n",
    "print(f\"{n}! = {fac}\");"
   ]
  },
  {
   "cell_type": "markdown",
   "metadata": {},
   "source": [
    "### 10) WAP to find factors of the given number."
   ]
  },
  {
   "cell_type": "code",
   "execution_count": 31,
   "metadata": {},
   "outputs": [
    {
     "name": "stdout",
     "output_type": "stream",
     "text": [
      "Factors of a Number\n",
      "Enter any Number: 5\n",
      "Factors of 5: 1 5 "
     ]
    }
   ],
   "source": [
    "print(\"Factors of a Number\");\n",
    "n=int(input(\"Enter any Number: \"));\n",
    "print(f\"Factors of {n}: \",end=\"\");\n",
    "for i in range(1,n+1):\n",
    "    if(n%i==0):\n",
    "        print(f\"{i}\",end=\" \");"
   ]
  },
  {
   "cell_type": "markdown",
   "metadata": {},
   "source": [
    "### 11) WAP to find whether the given number is prime or not."
   ]
  },
  {
   "cell_type": "code",
   "execution_count": 33,
   "metadata": {},
   "outputs": [
    {
     "name": "stdout",
     "output_type": "stream",
     "text": [
      "Prime Number or Not\n",
      "Enter any Number: 5\n",
      "Prime\n"
     ]
    }
   ],
   "source": [
    "print(\"Prime Number or Not\");\n",
    "n=int(input(\"Enter any Number: \"));\n",
    "for i in range(2,n):\n",
    "    if(n%i==0):\n",
    "        print(\"Not Prime\");\n",
    "        break;\n",
    "else:\n",
    "    print(\"Prime\");"
   ]
  },
  {
   "cell_type": "markdown",
   "metadata": {},
   "source": [
    "### 12) WAP to print sum of digits of given number."
   ]
  },
  {
   "cell_type": "code",
   "execution_count": 37,
   "metadata": {},
   "outputs": [
    {
     "name": "stdout",
     "output_type": "stream",
     "text": [
      "Sum of Digits of Number\n",
      "Enter any Number: 900008\n",
      "Sum of digits: 17\n"
     ]
    }
   ],
   "source": [
    "print(\"Sum of Digits of Number\");\n",
    "n=int(input(\"Enter any Number: \"));\n",
    "sum=0;\n",
    "while n!=0:\n",
    "    sum+=(n%10);\n",
    "    n=int(n/10);\n",
    "print(f\"Sum of digits: {sum}\");"
   ]
  },
  {
   "cell_type": "markdown",
   "metadata": {},
   "source": [
    "### 13) WAP to check whether the given number is palindrome or not"
   ]
  },
  {
   "cell_type": "code",
   "execution_count": 43,
   "metadata": {},
   "outputs": [
    {
     "name": "stdout",
     "output_type": "stream",
     "text": [
      "Palindrome or Not\n",
      "Enter any Number: 5\n",
      "Palindrome\n"
     ]
    }
   ],
   "source": [
    "print(\"Palindrome or Not\");\n",
    "n=int(input(\"Enter any Number: \"));\n",
    "rev=0;\n",
    "a=n;\n",
    "while a!=0:\n",
    "    rev=(rev*10)+(a%10);\n",
    "    a=int(a/10);\n",
    "if(rev==n):\n",
    "    print(\"Palindrome\");\n",
    "else:\n",
    "    print(\"Not Palindrome\");"
   ]
  },
  {
   "cell_type": "markdown",
   "metadata": {},
   "source": [
    "### 14) WAP to print GCD of given two numbers."
   ]
  },
  {
   "cell_type": "code",
   "execution_count": 47,
   "metadata": {},
   "outputs": [
    {
     "name": "stdout",
     "output_type": "stream",
     "text": [
      "GCD of 2 Numbers\n",
      "Enter any number: 15\n",
      "Enter any number: 12\n",
      "GCD: 3\n"
     ]
    }
   ],
   "source": [
    "print(\"GCD of 2 Numbers\");\n",
    "a=int(input(\"Enter any number: \"));\n",
    "b=int(input(\"Enter any number: \"));\n",
    "gcd=1;\n",
    "for i in range(1,a+1):\n",
    "    if(a%i==0):\n",
    "        if(b%i==0):\n",
    "            gcd=i;\n",
    "print(f\"GCD: {gcd}\");"
   ]
  },
  {
   "cell_type": "code",
   "execution_count": null,
   "metadata": {},
   "outputs": [],
   "source": []
  }
 ],
 "metadata": {
  "kernelspec": {
   "display_name": "Python 3 (ipykernel)",
   "language": "python",
   "name": "python3"
  },
  "language_info": {
   "codemirror_mode": {
    "name": "ipython",
    "version": 3
   },
   "file_extension": ".py",
   "mimetype": "text/x-python",
   "name": "python",
   "nbconvert_exporter": "python",
   "pygments_lexer": "ipython3",
   "version": "3.10.9"
  }
 },
 "nbformat": 4,
 "nbformat_minor": 4
}
