{
 "cells": [
  {
   "cell_type": "markdown",
   "metadata": {},
   "source": [
    "<a href='https://www.darshan.ac.in/'> <img src='https://www.darshan.ac.in/Content/media/DU_Logo.svg' width=\"250\" height=\"300\"/></a>\n",
    "<pre>\n",
    "<center><b><h1>Python Programming - 2301CS404</b></center>\n",
    "<center><b><h1>Lab - 9</b></center>    \n",
    "<pre>"
   ]
  },
  {
   "cell_type": "markdown",
   "metadata": {},
   "source": [
    "# File I/O"
   ]
  },
  {
   "cell_type": "markdown",
   "metadata": {},
   "source": [
    "### 01) WAP to read and display the contents of a text file. (also try to open the file in some other directory) \n",
    "#### - in the form of a string\n",
    "#### - line by line\n",
    "#### - in the form of a list"
   ]
  },
  {
   "cell_type": "code",
   "execution_count": 8,
   "metadata": {},
   "outputs": [
    {
     "name": "stdout",
     "output_type": "stream",
     "text": [
      "Hello World\n",
      "This is File1\n",
      "Program 1\n",
      "Hello World\n",
      "\n",
      "This is File1\n",
      "\n",
      "Program 1\n",
      "['Hello World\\n', 'This is File1\\n', 'Program 1']\n",
      "\n"
     ]
    }
   ],
   "source": [
    "fp=open('file1.txt','r')\n",
    "s=fp.read()\n",
    "print(s)\n",
    "fp.seek(0)\n",
    "\n",
    "s=fp.readline()\n",
    "while s:\n",
    "    print(s)\n",
    "    s=fp.readline()\n",
    "fp.seek(0)\n",
    "\n",
    "s=fp.readlines()\n",
    "print(s)\n",
    "\n",
    "fp.close()\n",
    "\n",
    "\n",
    "fp=open('C:\\\\Users\\\\jagdi\\\\Desktop\\\\Sem-4\\\\Python\\\\flie_demo.txt','r')\n",
    "print(fp.read())\n",
    "fp.close()"
   ]
  },
  {
   "cell_type": "markdown",
   "metadata": {},
   "source": [
    "### 02) WAP to create file named \"new.txt\" only if it doesn't exist."
   ]
  },
  {
   "cell_type": "code",
   "execution_count": 16,
   "metadata": {},
   "outputs": [
    {
     "name": "stdout",
     "output_type": "stream",
     "text": [
      "File already exists.\n"
     ]
    }
   ],
   "source": [
    "try:\n",
    "    with open(\"new.txt\", \"x\") as file:\n",
    "        file.write(\"File created\")\n",
    "except FileExistsError:\n",
    "    print(\"File already exists.\")"
   ]
  },
  {
   "cell_type": "markdown",
   "metadata": {},
   "source": [
    "### 03) WAP to read first 5 lines from the text file."
   ]
  },
  {
   "cell_type": "code",
   "execution_count": 28,
   "metadata": {},
   "outputs": [
    {
     "name": "stdout",
     "output_type": "stream",
     "text": [
      "Hello World\n",
      "\n",
      "This is File1\n",
      "\n",
      "Program\n",
      "\n",
      "Line 4\n",
      "\n",
      "Line 5\n",
      "\n"
     ]
    }
   ],
   "source": [
    "fp=open('file1.txt','r')\n",
    "count=0\n",
    "while count!=5:\n",
    "    print(fp.readline())\n",
    "    count+=1\n",
    "fp.close()"
   ]
  },
  {
   "cell_type": "markdown",
   "metadata": {},
   "source": [
    "### 04) WAP to find the longest word(s) in a file"
   ]
  },
  {
   "cell_type": "code",
   "execution_count": 30,
   "metadata": {},
   "outputs": [
    {
     "name": "stdout",
     "output_type": "stream",
     "text": [
      "Program\n"
     ]
    }
   ],
   "source": [
    "fp=open('file1.txt','r')\n",
    "words=fp.read().split()\n",
    "max_len=0\n",
    "max_word=''\n",
    "for w in words:\n",
    "    if max_len<len(w):\n",
    "        max_len=len(w)\n",
    "        max_word=w\n",
    "print(max_word)\n",
    "fp.close()"
   ]
  },
  {
   "cell_type": "markdown",
   "metadata": {},
   "source": [
    "### 05) WAP to count the no. of lines, words and characters in a given text file."
   ]
  },
  {
   "cell_type": "code",
   "execution_count": 40,
   "metadata": {},
   "outputs": [
    {
     "name": "stdout",
     "output_type": "stream",
     "text": [
      "No of lines:  6\n",
      "No of words:  12\n",
      "No of characters:  43\n"
     ]
    }
   ],
   "source": [
    "fp=open('file1.txt','r')\n",
    "lines=fp.readlines()\n",
    "print('No of lines: ',len(lines))\n",
    "fp.seek(0)\n",
    "words=fp.read().split()\n",
    "print('No of words: ',len(words))\n",
    "count=0\n",
    "for w in words:\n",
    "    count+=len(w)\n",
    "print('No of characters: ',count)\n",
    "fp.close()"
   ]
  },
  {
   "cell_type": "markdown",
   "metadata": {},
   "source": [
    "### 06) WAP to copy the content of a file to the another file."
   ]
  },
  {
   "cell_type": "code",
   "execution_count": 52,
   "metadata": {},
   "outputs": [
    {
     "name": "stdout",
     "output_type": "stream",
     "text": [
      "Hello World\n",
      "This is File1\n",
      "Program\n",
      "Line 4\n",
      "Line 5\n",
      "Line 6  \n"
     ]
    }
   ],
   "source": [
    "fp=open('file1.txt','r')\n",
    "fp2=open('file2.txt','w+')\n",
    "fp2.write(fp.read())\n",
    "fp2.seek(0)\n",
    "print(fp2.read())\n",
    "fp.close()\n",
    "fp2.close()"
   ]
  },
  {
   "cell_type": "markdown",
   "metadata": {},
   "source": [
    "### 07) WAP to find the size of the text file. "
   ]
  },
  {
   "cell_type": "code",
   "execution_count": 56,
   "metadata": {},
   "outputs": [
    {
     "name": "stdout",
     "output_type": "stream",
     "text": [
      "56\n"
     ]
    }
   ],
   "source": [
    "fp=open('file1.txt','r')\n",
    "fp.seek(0,2)\n",
    "print(fp.tell())\n",
    "fp.close()"
   ]
  },
  {
   "cell_type": "markdown",
   "metadata": {},
   "source": [
    "### 08) WAP to create an UDF named frequency to count occurances of the specific word in a given text file."
   ]
  },
  {
   "cell_type": "code",
   "execution_count": 62,
   "metadata": {},
   "outputs": [
    {
     "name": "stdout",
     "output_type": "stream",
     "text": [
      "3\n"
     ]
    }
   ],
   "source": [
    "def count_freq(fp,s):\n",
    "    words=fp.read().split()\n",
    "    return words.count(s)\n",
    "\n",
    "fp=open('file1.txt','r')\n",
    "print(count_freq(fp,'Line'))\n",
    "fp.close()"
   ]
  },
  {
   "cell_type": "markdown",
   "metadata": {},
   "source": [
    "### 09) WAP to get the score of five subjects from the user, store them in a file. Fetch those marks and find the highest score."
   ]
  },
  {
   "cell_type": "code",
   "execution_count": 78,
   "metadata": {},
   "outputs": [
    {
     "name": "stdout",
     "output_type": "stream",
     "text": [
      "Enter following marks\n"
     ]
    },
    {
     "name": "stdin",
     "output_type": "stream",
     "text": [
      "Subject 1: 2\n",
      "Subject 2: 3\n",
      "Subject 3: 6\n",
      "Subject 4: 2\n",
      "Subject 5: 3\n"
     ]
    },
    {
     "name": "stdout",
     "output_type": "stream",
     "text": [
      "6\n"
     ]
    }
   ],
   "source": [
    "fp=open('marks.txt','w+')\n",
    "print('Enter following marks')\n",
    "m1=int(input('Subject 1:'))\n",
    "m2=int(input('Subject 2:'))\n",
    "m3=int(input('Subject 3:'))\n",
    "m4=int(input('Subject 4:'))\n",
    "m5=int(input('Subject 5:'))\n",
    "fp.write(f'{m1} {m2} {m3} {m4} {m5}\\n')\n",
    "fp.seek(0)\n",
    "marks=fp.read().split()\n",
    "max_marks=0\n",
    "for i in marks:\n",
    "    i=int(i)\n",
    "    max_marks=max(i,max_marks)\n",
    "print(max_marks)\n",
    "fp.close()"
   ]
  },
  {
   "cell_type": "markdown",
   "metadata": {},
   "source": [
    "### 10) WAP to write first 100 prime numbers to a file named primenumbers.txt \n",
    "(Note: each number should be in new line)"
   ]
  },
  {
   "cell_type": "code",
   "execution_count": 88,
   "metadata": {},
   "outputs": [
    {
     "name": "stdout",
     "output_type": "stream",
     "text": [
      "2\n",
      "3\n",
      "5\n",
      "7\n",
      "11\n",
      "13\n",
      "17\n",
      "19\n",
      "23\n",
      "29\n",
      "31\n",
      "37\n",
      "41\n",
      "43\n",
      "47\n",
      "53\n",
      "59\n",
      "61\n",
      "67\n",
      "71\n",
      "73\n",
      "79\n",
      "83\n",
      "89\n",
      "97\n",
      "101\n",
      "103\n",
      "107\n",
      "109\n",
      "113\n",
      "127\n",
      "131\n",
      "137\n",
      "139\n",
      "149\n",
      "151\n",
      "157\n",
      "163\n",
      "167\n",
      "173\n",
      "179\n",
      "181\n",
      "191\n",
      "193\n",
      "197\n",
      "199\n",
      "211\n",
      "223\n",
      "227\n",
      "229\n",
      "233\n",
      "239\n",
      "241\n",
      "251\n",
      "257\n",
      "263\n",
      "269\n",
      "271\n",
      "277\n",
      "281\n",
      "283\n",
      "293\n",
      "307\n",
      "311\n",
      "313\n",
      "317\n",
      "331\n",
      "337\n",
      "347\n",
      "349\n",
      "353\n",
      "359\n",
      "367\n",
      "373\n",
      "379\n",
      "383\n",
      "389\n",
      "397\n",
      "401\n",
      "409\n",
      "419\n",
      "421\n",
      "431\n",
      "433\n",
      "439\n",
      "443\n",
      "449\n",
      "457\n",
      "461\n",
      "463\n",
      "467\n",
      "479\n",
      "487\n",
      "491\n",
      "499\n",
      "503\n",
      "509\n",
      "521\n",
      "523\n",
      "541\n",
      "547\n",
      "\n"
     ]
    }
   ],
   "source": [
    "def is_prime(n):\n",
    "    if n<=1:\n",
    "        return False\n",
    "    for i in range(2,int(n**0.5)+1):\n",
    "        if n%i==0:\n",
    "            return False\n",
    "    return True\n",
    "\n",
    "fp=open('primenumbers.txt','w+')\n",
    "primes=[]\n",
    "n=2\n",
    "while len(primes)<=100:\n",
    "    if is_prime(n):\n",
    "        primes.append(n)\n",
    "    n+=1\n",
    "for p in primes:\n",
    "    fp.write(f\"{p}\\n\")\n",
    "fp.seek(0)\n",
    "print(fp.read())\n",
    "fp.close()"
   ]
  },
  {
   "cell_type": "markdown",
   "metadata": {},
   "source": [
    "### 11) WAP to merge two files and write it in a new file."
   ]
  },
  {
   "cell_type": "code",
   "execution_count": 94,
   "metadata": {},
   "outputs": [
    {
     "name": "stdout",
     "output_type": "stream",
     "text": [
      "Hello World\n",
      "This is File1\n",
      "Program\n",
      "Line 4\n",
      "Line 5\n",
      "Line 6   \n",
      "Hello World\n",
      "This is File1\n",
      "Program\n",
      "Line 4\n",
      "Line 5\n",
      "Line 6  \n"
     ]
    }
   ],
   "source": [
    "fp=open('file1.txt','r')\n",
    "fp2=open('file2.txt','r')\n",
    "fp3=open('new_file.txt','w+')\n",
    "fp3.write(f'{fp.read()} \\n{fp2.read()}')\n",
    "fp3.seek(0)\n",
    "print(fp3.read())\n",
    "fp.close()\n",
    "fp2.close()\n",
    "fp3.close()"
   ]
  },
  {
   "cell_type": "markdown",
   "metadata": {},
   "source": [
    "### 12) WAP to replace word1 by word2 of a text file. Write the updated data to new file."
   ]
  },
  {
   "cell_type": "code",
   "execution_count": 96,
   "metadata": {},
   "outputs": [
    {
     "name": "stdout",
     "output_type": "stream",
     "text": [
      "Hello World\n",
      "This is File1\n",
      "Program\n",
      "New_Line 4\n",
      "New_Line 5\n",
      "New_Line 6  \n"
     ]
    }
   ],
   "source": [
    "fp=open('file1.txt','r')\n",
    "fp2=open('file2.txt','w+')\n",
    "s=fp.read()\n",
    "s=s.replace('Line','New_Line')\n",
    "fp2.write(s)\n",
    "fp2.seek(0)\n",
    "print(fp2.read())\n",
    "fp.close()\n",
    "fp2.close()"
   ]
  },
  {
   "cell_type": "markdown",
   "metadata": {},
   "source": [
    "### 13) Demonstrate tell() and seek() for all the cases(seek from beginning-end-current position) taking a suitable example of your choice."
   ]
  },
  {
   "cell_type": "code",
   "execution_count": 112,
   "metadata": {},
   "outputs": [
    {
     "name": "stdout",
     "output_type": "stream",
     "text": [
      "Initial position: 0\n",
      "After reading first line: 0\n",
      "Beginning: 0\n",
      "After 10 bytes: 10\n",
      "End: 0\n",
      "5 bytes back from the end: 5\n",
      "Last 5 bytes: b''\n"
     ]
    }
   ],
   "source": [
    "fp=open('demo.txt','rb')\n",
    "print(\"Initial position:\", fp.tell())\n",
    "fp.readline()\n",
    "print(\"After reading first line:\", fp.tell())\n",
    "fp.seek(0)\n",
    "print(\"Beginning:\", fp.tell())\n",
    "fp.seek(10)\n",
    "print(\"After 10 bytes:\", fp.tell())\n",
    "fp.seek(0,2)\n",
    "print(\"End:\", fp.tell())\n",
    "fp.seek(5,2)\n",
    "print(\"5 bytes back from the end:\", fp.tell())\n",
    "print(\"Last 5 bytes:\", fp.read())"
   ]
  }
 ],
 "metadata": {
  "kernelspec": {
   "display_name": "Python 3 (ipykernel)",
   "language": "python",
   "name": "python3"
  },
  "language_info": {
   "codemirror_mode": {
    "name": "ipython",
    "version": 3
   },
   "file_extension": ".py",
   "mimetype": "text/x-python",
   "name": "python",
   "nbconvert_exporter": "python",
   "pygments_lexer": "ipython3",
   "version": "3.12.7"
  }
 },
 "nbformat": 4,
 "nbformat_minor": 4
}
