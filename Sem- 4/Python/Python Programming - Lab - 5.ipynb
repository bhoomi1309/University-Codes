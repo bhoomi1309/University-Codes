{
 "cells": [
  {
   "cell_type": "markdown",
   "metadata": {},
   "source": [
    "\n",
    "<a href='https://www.darshan.ac.in/'> <img src='https://www.darshan.ac.in/Content/media/DU_Logo.svg' width=\"250\" height=\"300\"/></a>\n",
    "<pre>\n",
    "<center><b><h1>Python Programming - 2301CS404</b></center>\n",
    "<center><b><h1>Lab - 5</b></center>    \n",
    "<pre>"
   ]
  },
  {
   "cell_type": "markdown",
   "metadata": {},
   "source": [
    "# List"
   ]
  },
  {
   "cell_type": "markdown",
   "metadata": {},
   "source": [
    "### 01) WAP to find sum of all the elements in a List."
   ]
  },
  {
   "cell_type": "code",
   "execution_count": 4,
   "metadata": {},
   "outputs": [
    {
     "name": "stdout",
     "output_type": "stream",
     "text": [
      "Sum: 24\n"
     ]
    }
   ],
   "source": [
    "l1=[5,2,8,6,3]\n",
    "sum=0\n",
    "for i in l1:\n",
    "    sum+=i\n",
    "print(f\"Sum: {sum}\")"
   ]
  },
  {
   "cell_type": "markdown",
   "metadata": {},
   "source": [
    "### 02) WAP to find largest element in a List."
   ]
  },
  {
   "cell_type": "code",
   "execution_count": 6,
   "metadata": {},
   "outputs": [
    {
     "name": "stdout",
     "output_type": "stream",
     "text": [
      "Maximum: 8\n"
     ]
    }
   ],
   "source": [
    "l2=[5,2,8,6,3]\n",
    "print(f\"Maximum: {max(l2)}\")"
   ]
  },
  {
   "cell_type": "markdown",
   "metadata": {},
   "source": [
    "### 03) WAP to find the length of a List."
   ]
  },
  {
   "cell_type": "code",
   "execution_count": 8,
   "metadata": {},
   "outputs": [
    {
     "name": "stdout",
     "output_type": "stream",
     "text": [
      "Length of List: 5\n"
     ]
    }
   ],
   "source": [
    "l3=[5,2,8,6,3]\n",
    "print(f\"Length of List: {len(l3)}\")"
   ]
  },
  {
   "cell_type": "markdown",
   "metadata": {},
   "source": [
    "### 04) WAP to interchange first and last elements in a list."
   ]
  },
  {
   "cell_type": "code",
   "execution_count": 12,
   "metadata": {},
   "outputs": [
    {
     "name": "stdout",
     "output_type": "stream",
     "text": [
      "Original List: [5, 2, 8, 6, 3]\n",
      "New List: [3, 2, 8, 6, 5]\n"
     ]
    }
   ],
   "source": [
    "l4=[5,2,8,6,3]\n",
    "print(f\"Original List: {l4}\")\n",
    "l4[len(l4)-1],l4[0]=l4[0],l4[len(l4)-1]\n",
    "print(f\"New List: {l4}\")"
   ]
  },
  {
   "cell_type": "markdown",
   "metadata": {},
   "source": [
    "### 05) WAP to split the List into two parts and append the first part to the end."
   ]
  },
  {
   "cell_type": "code",
   "execution_count": 32,
   "metadata": {},
   "outputs": [
    {
     "name": "stdout",
     "output_type": "stream",
     "text": [
      "Original List: [5, 2, 8, 6, 3, 1, 7, 2, 3]\n",
      "New List: [3, 1, 7, 2, 3, 5, 2, 8, 6]\n"
     ]
    }
   ],
   "source": [
    "l5=[5,2,8,6,3,1,7,2,3]\n",
    "n=len(l5)\n",
    "print(f\"Original List: {l5}\")\n",
    "listHalf=l5[0:int(n/2)]\n",
    "newList=l5[int(n/2):n]\n",
    "newList.extend(listHalf)\n",
    "print(f\"New List: {newList}\")"
   ]
  },
  {
   "cell_type": "markdown",
   "metadata": {},
   "source": [
    "### 06) WAP to interchange the elements on two positions entered by a user."
   ]
  },
  {
   "cell_type": "code",
   "execution_count": 42,
   "metadata": {},
   "outputs": [
    {
     "name": "stdout",
     "output_type": "stream",
     "text": [
      "Original List: [5, 2, 8, 6, 3, 1, 7, 2, 3, 4]\n"
     ]
    },
    {
     "name": "stdin",
     "output_type": "stream",
     "text": [
      "Enter any index(0-9):  2\n",
      "Enter any index(0-9):  9\n"
     ]
    },
    {
     "name": "stdout",
     "output_type": "stream",
     "text": [
      "New List: [5, 2, 4, 6, 3, 1, 7, 2, 3, 8]\n"
     ]
    }
   ],
   "source": [
    "l6=[5,2,8,6,3,1,7,2,3,4]\n",
    "n=len(l6)\n",
    "print(f\"Original List: {l6}\")\n",
    "a=int(input(\"Enter any index(0-9): \"))\n",
    "b=int(input(\"Enter any index(0-9): \"))\n",
    "if((a<0 or a>=n) or (b<0 or b>=n)):\n",
    "    print(\"Invalid Index\")\n",
    "else:\n",
    "    l6[a],l6[b]=l6[b],l6[a]\n",
    "    print(f\"New List: {l6}\")"
   ]
  },
  {
   "cell_type": "markdown",
   "metadata": {},
   "source": [
    "### 07) WAP to reverse the list entered by user."
   ]
  },
  {
   "cell_type": "code",
   "execution_count": 50,
   "metadata": {},
   "outputs": [
    {
     "name": "stdout",
     "output_type": "stream",
     "text": [
      "Reverse List\n"
     ]
    },
    {
     "name": "stdin",
     "output_type": "stream",
     "text": [
      "Enter any number to add in list (-1 to exit):  2\n",
      "Enter any number to add in list (-1 to exit):  9\n",
      "Enter any number to add in list (-1 to exit):  3\n",
      "Enter any number to add in list (-1 to exit):  5\n",
      "Enter any number to add in list (-1 to exit):  -1\n"
     ]
    },
    {
     "name": "stdout",
     "output_type": "stream",
     "text": [
      "Original List: [2, 9, 3, 5]\n",
      "Reversed List: [5, 3, 9, 2]\n"
     ]
    }
   ],
   "source": [
    "print(\"Reverse List\")\n",
    "l7=[]\n",
    "num=int(input(\"Enter any number to add in list (-1 to exit): \"))\n",
    "while(num!=-1):\n",
    "    l7.append(num)\n",
    "    num=int(input(\"Enter any number to add in list (-1 to exit): \"))\n",
    "print(f\"Original List: {l7}\")\n",
    "print(f\"Reversed List: {l7[::-1]}\")"
   ]
  },
  {
   "cell_type": "markdown",
   "metadata": {},
   "source": [
    "### 08) WAP to print even numbers in a list."
   ]
  },
  {
   "cell_type": "code",
   "execution_count": 52,
   "metadata": {},
   "outputs": [
    {
     "name": "stdout",
     "output_type": "stream",
     "text": [
      "List: [5, 2, 8, 6, 3, 1, 7, 2, 3, 4]\n",
      "Even: 2 8 6 2 4 "
     ]
    }
   ],
   "source": [
    "l8=[5,2,8,6,3,1,7,2,3,4]\n",
    "print(f\"List: {l8}\")\n",
    "print(\"Even: \",end='')\n",
    "for i in l8:\n",
    "    if(i%2==0):\n",
    "        print(i,end=' ')"
   ]
  },
  {
   "cell_type": "markdown",
   "metadata": {},
   "source": [
    "### 09) WAP to count unique items in a list."
   ]
  },
  {
   "cell_type": "code",
   "execution_count": 60,
   "metadata": {},
   "outputs": [
    {
     "name": "stdout",
     "output_type": "stream",
     "text": [
      "List: [5, 2, 3, 2, 4, 2, 3, 4]\n",
      "Unique Elements: 5 2 3 4 "
     ]
    }
   ],
   "source": [
    "l9=[5,2,3,2,4,2,3,4]\n",
    "print(f\"List: {l9}\")\n",
    "ans=[]\n",
    "print(\"Unique Elements: \",end='')\n",
    "for i in l9:\n",
    "    if i not in ans:\n",
    "        print(i,end=' ')\n",
    "    ans.append(i)"
   ]
  },
  {
   "cell_type": "markdown",
   "metadata": {},
   "source": [
    "### 10) WAP to copy a list."
   ]
  },
  {
   "cell_type": "code",
   "execution_count": 62,
   "metadata": {},
   "outputs": [
    {
     "name": "stdout",
     "output_type": "stream",
     "text": [
      "Original List: [5, 2, 3, 2, 4, 2, 3, 4]\n",
      "Copied List: [5, 2, 3, 2, 4, 2, 3, 4]\n"
     ]
    }
   ],
   "source": [
    "l9=[5,2,3,2,4,2,3,4]\n",
    "print(f\"Original List: {l9}\")\n",
    "print(f\"Copied List: {l9.copy()}\")"
   ]
  },
  {
   "cell_type": "markdown",
   "metadata": {},
   "source": [
    "### 11) WAP to print all odd numbers in a given range."
   ]
  },
  {
   "cell_type": "code",
   "execution_count": 64,
   "metadata": {},
   "outputs": [
    {
     "name": "stdout",
     "output_type": "stream",
     "text": [
      "Odd Numbers in a Range\n"
     ]
    },
    {
     "name": "stdin",
     "output_type": "stream",
     "text": [
      "Enter any number:  8\n",
      "Enter any number:  2\n"
     ]
    },
    {
     "name": "stdout",
     "output_type": "stream",
     "text": [
      "Odd: 3 5 7 "
     ]
    }
   ],
   "source": [
    "print(\"Odd Numbers in a Range\")\n",
    "a=int(input(\"Enter any number: \"))\n",
    "b=int(input(\"Enter any number: \"))\n",
    "if(a>b):\n",
    "    a,b=b,a\n",
    "print(\"Odd: \",end='')\n",
    "for i in range(a,b):\n",
    "    if(i%2!=0):\n",
    "        print(i,end=' ')"
   ]
  },
  {
   "cell_type": "markdown",
   "metadata": {},
   "source": [
    "### 12) WAP to count occurrences of an element in a list."
   ]
  },
  {
   "cell_type": "code",
   "execution_count": 14,
   "metadata": {},
   "outputs": [
    {
     "name": "stdout",
     "output_type": "stream",
     "text": [
      "Count of 5: 1\n",
      "Count of 2: 4\n",
      "Count of 7: 1\n",
      "Count of 3: 2\n",
      "Count of 4: 3\n"
     ]
    }
   ],
   "source": [
    "s=set()\n",
    "l12=[5,2,7,2,3,4,2,4,2,3,4]\n",
    "for i in l12:\n",
    "    if(i not in s):\n",
    "        print(f\"Count of {i}: {l12.count(i)}\")\n",
    "    s.add(i)"
   ]
  },
  {
   "cell_type": "markdown",
   "metadata": {},
   "source": [
    "### 13) WAP to find second largest number in a list."
   ]
  },
  {
   "cell_type": "code",
   "execution_count": 16,
   "metadata": {},
   "outputs": [
    {
     "name": "stdout",
     "output_type": "stream",
     "text": [
      "List: [5, 2, 8, 6, 3, 1, 7, 2, 3, 4]\n",
      "Second Largest: 7\n"
     ]
    }
   ],
   "source": [
    "l13=[5,2,8,6,3,1,7,2,3,4]\n",
    "print(f\"List: {l13}\")\n",
    "l13.sort(reverse=True)\n",
    "print(f\"Second Largest: {l13[1]}\") "
   ]
  },
  {
   "cell_type": "markdown",
   "metadata": {},
   "source": [
    "### 14) WAP to extract elements with frequency greater than K."
   ]
  },
  {
   "cell_type": "code",
   "execution_count": 32,
   "metadata": {},
   "outputs": [
    {
     "name": "stdin",
     "output_type": "stream",
     "text": [
      "Enter any number to add in list (-1 to exit):  2\n",
      "Enter any number to add in list (-1 to exit):  3\n",
      "Enter any number to add in list (-1 to exit):  9\n",
      "Enter any number to add in list (-1 to exit):  2\n",
      "Enter any number to add in list (-1 to exit):  3\n",
      "Enter any number to add in list (-1 to exit):  4\n",
      "Enter any number to add in list (-1 to exit):  5\n",
      "Enter any number to add in list (-1 to exit):  5\n",
      "Enter any number to add in list (-1 to exit):  2\n",
      "Enter any number to add in list (-1 to exit):  5\n",
      "Enter any number to add in list (-1 to exit):  -1\n"
     ]
    },
    {
     "name": "stdout",
     "output_type": "stream",
     "text": [
      "List: [2, 3, 9, 2, 3, 4, 5, 5, 2, 5]\n"
     ]
    },
    {
     "name": "stdin",
     "output_type": "stream",
     "text": [
      "Enter value of K:  2\n"
     ]
    },
    {
     "name": "stdout",
     "output_type": "stream",
     "text": [
      "Elements with frequency greater than K: [2, 5]\n"
     ]
    }
   ],
   "source": [
    "l14=[]\n",
    "num=int(input(\"Enter any number to add in list (-1 to exit): \"))\n",
    "while(num!=-1):\n",
    "    l14.append(num)\n",
    "    num=int(input(\"Enter any number to add in list (-1 to exit): \"))\n",
    "print(f\"List: {l14}\")\n",
    "k=int(input(\"Enter value of K: \"))\n",
    "ans=[]\n",
    "for i in l14:\n",
    "    if(l14.count(i)>k):\n",
    "        if(i not in ans):\n",
    "            ans.append(i)\n",
    "print(f\"Elements with frequency greater than K: {ans}\")"
   ]
  },
  {
   "cell_type": "markdown",
   "metadata": {},
   "source": [
    "### 15) WAP to create a list of squared numbers from 0 to 9 with and without using List Comprehension."
   ]
  },
  {
   "cell_type": "code",
   "execution_count": 34,
   "metadata": {},
   "outputs": [
    {
     "name": "stdout",
     "output_type": "stream",
     "text": [
      "Without comprehension: [0, 1, 4, 9, 16, 25, 36, 49, 64, 81]\n",
      "With comprehension: [0, 1, 4, 9, 16, 25, 36, 49, 64, 81]\n"
     ]
    }
   ],
   "source": [
    "l15_1=[]\n",
    "for i in range(10):\n",
    "    l15_1.append(i**2)\n",
    "print(f\"Without comprehension: {l15_1}\")\n",
    "l15_2=[i**2 for i in range(10)]\n",
    "print(f\"With comprehension: {l15_2}\")"
   ]
  },
  {
   "cell_type": "markdown",
   "metadata": {},
   "source": [
    "### 16) WAP to create a new list (fruit whose name starts with 'b') from the list of fruits given by user."
   ]
  },
  {
   "cell_type": "code",
   "execution_count": 46,
   "metadata": {},
   "outputs": [
    {
     "name": "stdout",
     "output_type": "stream",
     "text": [
      "List of Fruits\n"
     ]
    },
    {
     "name": "stdin",
     "output_type": "stream",
     "text": [
      "Enter any fruit to add in list ('end' to exit):  apple\n",
      "Enter any fruit to add in list ('end' to exit):  banana\n",
      "Enter any fruit to add in list ('end' to exit):  blueberry\n",
      "Enter any fruit to add in list ('end' to exit):  kiwi\n",
      "Enter any fruit to add in list ('end' to exit):  lemon\n",
      "Enter any fruit to add in list ('end' to exit):  end\n"
     ]
    },
    {
     "name": "stdout",
     "output_type": "stream",
     "text": [
      "Fruits: ['apple', 'banana', 'blueberry', 'kiwi', 'lemon']\n",
      "New list of fruits starting with 'b': ['banana', 'blueberry']\n"
     ]
    }
   ],
   "source": [
    "print(\"List of Fruits\")\n",
    "fruits=[]\n",
    "f=input(\"Enter any fruit to add in list ('end' to exit): \")\n",
    "while(f!='end'):\n",
    "    fruits.append(f)\n",
    "    f=input(\"Enter any fruit to add in list ('end' to exit): \")\n",
    "print(f\"Fruits: {fruits}\")\n",
    "ans=[i for i in fruits if i[0]=='B' or i[0]=='b']\n",
    "print(f\"New list of fruits starting with 'b': {ans}\")"
   ]
  },
  {
   "cell_type": "markdown",
   "metadata": {},
   "source": [
    "### 17) WAP to create a list of common elements from given two lists."
   ]
  },
  {
   "cell_type": "code",
   "execution_count": 48,
   "metadata": {},
   "outputs": [
    {
     "name": "stdout",
     "output_type": "stream",
     "text": [
      "List 1: [2, 8, 6, 3, 1, 7, 2, 3, 4]\n",
      "List 2: [5, 2, 3, 2, 3, 4, 9, 4]\n",
      "Common Elements: [2, 3, 4]\n"
     ]
    }
   ],
   "source": [
    "l17_1=[2,8,6,3,1,7,2,3,4]\n",
    "l17_2=[5,2,3,2,3,4,9,4]\n",
    "ans=[]\n",
    "for i in l17_1:\n",
    "    if i in l17_2:\n",
    "        if i not in ans:\n",
    "            ans.append(i)\n",
    "print(f\"List 1: {l17_1}\")\n",
    "print(f\"List 2: {l17_2}\")\n",
    "print(f\"Common Elements: {ans}\")"
   ]
  },
  {
   "cell_type": "code",
   "execution_count": null,
   "metadata": {},
   "outputs": [],
   "source": []
  }
 ],
 "metadata": {
  "kernelspec": {
   "display_name": "Python 3 (ipykernel)",
   "language": "python",
   "name": "python3"
  },
  "language_info": {
   "codemirror_mode": {
    "name": "ipython",
    "version": 3
   },
   "file_extension": ".py",
   "mimetype": "text/x-python",
   "name": "python",
   "nbconvert_exporter": "python",
   "pygments_lexer": "ipython3",
   "version": "3.12.7"
  }
 },
 "nbformat": 4,
 "nbformat_minor": 4
}
