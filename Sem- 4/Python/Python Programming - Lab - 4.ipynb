{
 "cells": [
  {
   "cell_type": "markdown",
   "metadata": {},
   "source": [
    "\n",
    "<a href='https://www.darshan.ac.in/'> <img src='https://www.darshan.ac.in/Content/media/DU_Logo.svg' width=\"250\" height=\"300\"/></a>\n",
    "<pre>\n",
    "<center><b><h1>Python Programming - 2301CS404</b></center>\n",
    "<center><b><h1>Lab - 4</b></center>    \n",
    "<pre>"
   ]
  },
  {
   "cell_type": "markdown",
   "metadata": {},
   "source": [
    "# String"
   ]
  },
  {
   "cell_type": "markdown",
   "metadata": {},
   "source": [
    "### 01) WAP to check whether the given string is palindrome or not."
   ]
  },
  {
   "cell_type": "code",
   "execution_count": 5,
   "metadata": {},
   "outputs": [
    {
     "name": "stdout",
     "output_type": "stream",
     "text": [
      "String Palindrome or Not\n",
      "Enter any String: helloolleh\n",
      "Palindrome\n"
     ]
    }
   ],
   "source": [
    "print(\"String Palindrome or Not\")\n",
    "s=input(\"Enter any String: \")\n",
    "if s==s[::-1]:\n",
    "    print(\"Palindrome\")\n",
    "else:\n",
    "    print(\"Not a Palindrome\")"
   ]
  },
  {
   "cell_type": "markdown",
   "metadata": {},
   "source": [
    "### 02) WAP to reverse the words in the given string."
   ]
  },
  {
   "cell_type": "code",
   "execution_count": 13,
   "metadata": {},
   "outputs": [
    {
     "name": "stdout",
     "output_type": "stream",
     "text": [
      "Reverse Words in a String\n",
      "Enter any String: hello world this is the string\n",
      "Reversed String:  string the is this world hello\n"
     ]
    }
   ],
   "source": [
    "print(\"Reverse Words in a String\")\n",
    "s=input(\"Enter any String: \")\n",
    "list=s.split(\" \")\n",
    "list.reverse()\n",
    "ans=' '.join(list)\n",
    "print(\"Reversed String: \",ans)"
   ]
  },
  {
   "cell_type": "markdown",
   "metadata": {},
   "source": [
    "### 03) WAP to remove ith character from given string."
   ]
  },
  {
   "cell_type": "code",
   "execution_count": 22,
   "metadata": {},
   "outputs": [
    {
     "name": "stdout",
     "output_type": "stream",
     "text": [
      "Remove ith Character from String\n",
      "Enter any String: Hello World\n",
      "Enter value of i: 4\n",
      "New String:  Hell World\n"
     ]
    }
   ],
   "source": [
    "print(\"Remove ith Character from String\")\n",
    "s=input(\"Enter any String: \")\n",
    "i=int(input(\"Enter value of i: \"))\n",
    "ans=s[:i]+s[i+1:len(s)]\n",
    "print(\"New String: \",ans)"
   ]
  },
  {
   "cell_type": "markdown",
   "metadata": {},
   "source": [
    "### 04) WAP to find length of string without using len function."
   ]
  },
  {
   "cell_type": "code",
   "execution_count": 26,
   "metadata": {},
   "outputs": [
    {
     "name": "stdout",
     "output_type": "stream",
     "text": [
      "Length of String\n",
      "Enter any String: Hello World\n",
      "Length:  11\n"
     ]
    }
   ],
   "source": [
    "print(\"Length of String\")\n",
    "s=input(\"Enter any String: \")\n",
    "count=0\n",
    "for i in s:\n",
    "    count+=1\n",
    "print(\"Length: \",count)"
   ]
  },
  {
   "cell_type": "markdown",
   "metadata": {},
   "source": [
    "### 05) WAP to print even length word in string."
   ]
  },
  {
   "cell_type": "code",
   "execution_count": 31,
   "metadata": {},
   "outputs": [
    {
     "name": "stdout",
     "output_type": "stream",
     "text": [
      "Even Length Words in String\n",
      "Enter any String: hello worlds this isa string\n",
      "Revised String:  worlds this string \n"
     ]
    }
   ],
   "source": [
    "print(\"Even Length Words in String\")\n",
    "s=input(\"Enter any String: \")\n",
    "s+=\" \"\n",
    "count=0\n",
    "a=\"\"\n",
    "ans=\"\"\n",
    "for i in s:\n",
    "    if i==\" \":\n",
    "        if count%2==0:\n",
    "            ans+=a+\" \"\n",
    "        count=0\n",
    "        a=\"\"\n",
    "    else:\n",
    "        a+=i\n",
    "        count+=1\n",
    "print(\"Revised String: \",ans)"
   ]
  },
  {
   "cell_type": "markdown",
   "metadata": {},
   "source": [
    "### 06) WAP to count numbers of vowels in given string."
   ]
  },
  {
   "cell_type": "code",
   "execution_count": 35,
   "metadata": {},
   "outputs": [
    {
     "name": "stdout",
     "output_type": "stream",
     "text": [
      "Count Number of Vowels\n",
      "Enter any String: Vowels\n",
      "Count of Vowels:  2\n"
     ]
    }
   ],
   "source": [
    "print(\"Count Number of Vowels\")\n",
    "s=input(\"Enter any String: \")\n",
    "count=0\n",
    "vowel=\"aeiouAEIOU\"\n",
    "for i in s:\n",
    "    if vowel.find(i)>=0:\n",
    "        count+=1\n",
    "print(\"Count of Vowels: \",count)"
   ]
  },
  {
   "cell_type": "markdown",
   "metadata": {},
   "source": [
    "### 07) WAP to capitalize the first and last character of each word in a string."
   ]
  },
  {
   "cell_type": "code",
   "execution_count": 48,
   "metadata": {},
   "outputs": [
    {
     "name": "stdout",
     "output_type": "stream",
     "text": [
      "Capitalize first and last character of each word in string\n",
      "Enter any String: hello wolrd this is a string\n",
      "HellO WolrD ThiS IS A StrinG\n"
     ]
    }
   ],
   "source": [
    "print(\"Capitalize first and last character of each word in string\")\n",
    "s=input(\"Enter any String: \")\n",
    "s=s.title()\n",
    "list=s.split(\" \")\n",
    "for i in range(0,len(list)):\n",
    "    n=len(list[i])\n",
    "    list[i]=list[i][:n-1]+list[i][n-1].upper()\n",
    "ans=' '.join(list)\n",
    "print(ans)"
   ]
  },
  {
   "cell_type": "markdown",
   "metadata": {},
   "source": [
    "### 08) WAP to convert given array to string."
   ]
  },
  {
   "cell_type": "code",
   "execution_count": 49,
   "metadata": {},
   "outputs": [
    {
     "name": "stdout",
     "output_type": "stream",
     "text": [
      "Array to String\n",
      "Array:  ['this', 'is', 'an', 'array']\n",
      "String:  this is an array\n"
     ]
    }
   ],
   "source": [
    "print(\"Array to String\")\n",
    "arr=['this','is','an','array']\n",
    "s=' '.join(arr)\n",
    "print(\"Array: \",arr)\n",
    "print(\"String: \",s)"
   ]
  },
  {
   "cell_type": "markdown",
   "metadata": {},
   "source": [
    "### 09) Check if the password and confirm password is same or not. \n",
    "### In case of only case's mistake, show the error message."
   ]
  },
  {
   "cell_type": "code",
   "execution_count": 51,
   "metadata": {},
   "outputs": [
    {
     "name": "stdout",
     "output_type": "stream",
     "text": [
      "Password and Confirm Password\n",
      "Enter Password: hello\n",
      "Confirm Password: Hello\n",
      "Case Difference\n"
     ]
    }
   ],
   "source": [
    "print(\"Password and Confirm Password\")\n",
    "p1=input(\"Enter Password: \")\n",
    "p2=input(\"Confirm Password: \")\n",
    "if p1==p2:\n",
    "    print(\"Same\")\n",
    "else:\n",
    "    if p1.lower()==p2.lower():\n",
    "        print(\"Case Difference\")\n",
    "    else:\n",
    "        print(\"Not Same\")"
   ]
  },
  {
   "cell_type": "markdown",
   "metadata": {},
   "source": [
    "### 10) : Display credit card number. \n",
    "### card no. : 1234 5678 9012 3456\n",
    "### display as  : **** **** **** 3456"
   ]
  },
  {
   "cell_type": "code",
   "execution_count": 59,
   "metadata": {},
   "outputs": [
    {
     "name": "stdout",
     "output_type": "stream",
     "text": [
      "Credit Card Number\n",
      "Enter card number: 123456789123456\n",
      "Number:  ***********3456\n"
     ]
    }
   ],
   "source": [
    "print(\"Credit Card Number\")\n",
    "s=input(\"Enter card number: \")\n",
    "ans=\"\"\n",
    "for i in range(len(s)-4):\n",
    "    s=s.replace(s[i],'*',1)\n",
    "print(\"Number: \",s)"
   ]
  },
  {
   "cell_type": "markdown",
   "metadata": {},
   "source": [
    "### 11) : Checking if the two strings are Anagram or not.\n",
    "### s1 = decimal and s2 = medical are Anagram"
   ]
  },
  {
   "cell_type": "code",
   "execution_count": 60,
   "metadata": {},
   "outputs": [
    {
     "name": "stdout",
     "output_type": "stream",
     "text": [
      "Anagram or Not\n",
      "Enter String 1: decimal\n",
      "Enter String 2: medical\n",
      "Anagram\n"
     ]
    }
   ],
   "source": [
    "print(\"Anagram or Not\")\n",
    "s1=input(\"Enter String 1: \")\n",
    "s2=input(\"Enter String 2: \")\n",
    "s1=''.join(sorted(s1))\n",
    "s2=''.join(sorted(s2))\n",
    "if(s1==s2):\n",
    "    print(\"Anagram\")\n",
    "else:\n",
    "    print(\"Not Anagram\")"
   ]
  },
  {
   "cell_type": "markdown",
   "metadata": {},
   "source": [
    "### 12) : Rearrange the given string. First lowercase then uppercase alphabets.\n",
    "### input : EHlsarwiwhtwMV\n",
    "### output : lsarwiwhtwEHMV"
   ]
  },
  {
   "cell_type": "code",
   "execution_count": 62,
   "metadata": {},
   "outputs": [
    {
     "name": "stdout",
     "output_type": "stream",
     "text": [
      "Lowercase then Uppercase\n",
      "Enter any String: EHlsarwiwhtwMV\n",
      "Rearranged String:  lsarwiwhtwEHMV\n"
     ]
    }
   ],
   "source": [
    "print(\"Lowercase then Uppercase\")\n",
    "s=input(\"Enter any String: \")\n",
    "s1=\"\"\n",
    "s2=\"\"\n",
    "for i in s:\n",
    "    if(i.islower()):\n",
    "        s1+=i\n",
    "    else:\n",
    "        s2+=i\n",
    "ans=s1+s2\n",
    "print(\"Rearranged String: \",ans)"
   ]
  },
  {
   "cell_type": "code",
   "execution_count": null,
   "metadata": {},
   "outputs": [],
   "source": []
  }
 ],
 "metadata": {
  "kernelspec": {
   "display_name": "Python 3 (ipykernel)",
   "language": "python",
   "name": "python3"
  },
  "language_info": {
   "codemirror_mode": {
    "name": "ipython",
    "version": 3
   },
   "file_extension": ".py",
   "mimetype": "text/x-python",
   "name": "python",
   "nbconvert_exporter": "python",
   "pygments_lexer": "ipython3",
   "version": "3.10.9"
  },
  "vscode": {
   "interpreter": {
    "hash": "31f2aee4e71d21fbe5cf8b01ff0e069b9275f58929596ceb00d14d90e3e16cd6"
   }
  }
 },
 "nbformat": 4,
 "nbformat_minor": 4
}
