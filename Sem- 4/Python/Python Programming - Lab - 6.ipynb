{
 "cells": [
  {
   "attachments": {},
   "cell_type": "markdown",
   "metadata": {},
   "source": [
    "<a href='https://www.darshan.ac.in/'> <img src='https://www.darshan.ac.in/Content/media/DU_Logo.svg' width=\"250\" height=\"300\"/></a>\n",
    "<pre>\n",
    "<center><b><h1>Python Programming - 2301CS404</b></center>\n",
    "<center><b><h1>Lab - 6</b></center>    \n",
    "<pre>"
   ]
  },
  {
   "cell_type": "markdown",
   "metadata": {},
   "source": [
    "# Tuple"
   ]
  },
  {
   "cell_type": "markdown",
   "metadata": {},
   "source": [
    "### 01) WAP to find sum of tuple elements."
   ]
  },
  {
   "cell_type": "code",
   "execution_count": 8,
   "metadata": {},
   "outputs": [
    {
     "name": "stdout",
     "output_type": "stream",
     "text": [
      "Sum: 50\n"
     ]
    }
   ],
   "source": [
    "sum=0\n",
    "t1=(3,6,2,5,8,5,10,9,2)\n",
    "for i in t1:\n",
    "    sum+=i\n",
    "print(f\"Sum: {sum}\")"
   ]
  },
  {
   "cell_type": "markdown",
   "metadata": {},
   "source": [
    "### 02) WAP to find Maximum and Minimum K elements in a given tuple."
   ]
  },
  {
   "cell_type": "code",
   "execution_count": 36,
   "metadata": {},
   "outputs": [
    {
     "name": "stdout",
     "output_type": "stream",
     "text": [
      "Tuple: (3, 6, 2, 5, 8, 5, 10, 9)\n"
     ]
    },
    {
     "name": "stdin",
     "output_type": "stream",
     "text": [
      "Enter value of k:  2\n"
     ]
    },
    {
     "name": "stdout",
     "output_type": "stream",
     "text": [
      "Maximum k: [9, 10]\n",
      "Minimum k: [2, 3]\n"
     ]
    }
   ],
   "source": [
    "t2=(3,6,2,5,8,5,10,9)\n",
    "print(f\"Tuple: {t2}\")\n",
    "t2=sorted(t2)\n",
    "k=int(input(\"Enter value of k: \"))\n",
    "print(f\"Maximum k: {t2[-k::]}\")\n",
    "print(f\"Minimum k: {t2[:k:]}\")"
   ]
  },
  {
   "cell_type": "markdown",
   "metadata": {},
   "source": [
    "### 03) WAP to find tuples which have all elements divisible by K from a list of tuples."
   ]
  },
  {
   "cell_type": "code",
   "execution_count": 38,
   "metadata": {},
   "outputs": [
    {
     "name": "stdin",
     "output_type": "stream",
     "text": [
      "Enter value of k:  4\n"
     ]
    },
    {
     "name": "stdout",
     "output_type": "stream",
     "text": [
      "[(8, 16), (4, 16, 8, 12)]\n"
     ]
    }
   ],
   "source": [
    "tuple1=(3,6,4)\n",
    "tuple2=(8,16)\n",
    "tuple3=(4,16,8,12)\n",
    "tuple4=(4,5,10)\n",
    "list_tuples=[tuple1,tuple2,tuple3,tuple4]\n",
    "k=int(input(\"Enter value of k: \"))\n",
    "ans=[tuple for tuple in list_tuples if all(i%k==0 for i in tuple)]\n",
    "print(ans)"
   ]
  },
  {
   "cell_type": "markdown",
   "metadata": {},
   "source": [
    "### 04) WAP to create a list of tuples from given list having number and its cube in each tuple."
   ]
  },
  {
   "cell_type": "code",
   "execution_count": 40,
   "metadata": {},
   "outputs": [
    {
     "name": "stdout",
     "output_type": "stream",
     "text": [
      "[(1, 1), (2, 8), (3, 27), (4, 64), (5, 125), (6, 216), (7, 343)]\n"
     ]
    }
   ],
   "source": [
    "l1=[1,2,3,4,5,6,7]\n",
    "ans=[(i,i**3) for i in l1]\n",
    "print(ans)"
   ]
  },
  {
   "cell_type": "markdown",
   "metadata": {},
   "source": [
    "### 05) WAP to find tuples with all positive elements from the given list of tuples."
   ]
  },
  {
   "cell_type": "code",
   "execution_count": 42,
   "metadata": {},
   "outputs": [
    {
     "name": "stdout",
     "output_type": "stream",
     "text": [
      "[(8, 16), (4, 5, 10)]\n"
     ]
    }
   ],
   "source": [
    "tuple1=(-3,6,4)\n",
    "tuple2=(8,16)\n",
    "tuple3=(-4,16,-8,12)\n",
    "tuple4=(4,5,10)\n",
    "list_tuples=[tuple1,tuple2,tuple3,tuple4]\n",
    "ans=[tuple for tuple in list_tuples if all(i>0 for i in tuple)]\n",
    "print(ans)"
   ]
  },
  {
   "cell_type": "markdown",
   "metadata": {},
   "source": [
    "### 06) WAP to add tuple to list and vice – versa."
   ]
  },
  {
   "cell_type": "code",
   "execution_count": 56,
   "metadata": {},
   "outputs": [
    {
     "name": "stdout",
     "output_type": "stream",
     "text": [
      "Add tuple to list\n",
      "[1, 2, 3, 4, 5, 6, 7, -4, 16, -8, 12]\n",
      "Add list to tuple\n",
      "(-4, 16, -8, 12, 1, 2, 3, 4, 5, 6, 7)\n"
     ]
    }
   ],
   "source": [
    "t1=(-4,16,-8,12)\n",
    "l1=[1,2,3,4,5,6,7]\n",
    "print(\"Add tuple to list\")\n",
    "l1.extend(t1)\n",
    "print(l1)\n",
    "\n",
    "t1=(-4,16,-8,12)\n",
    "l1=[1,2,3,4,5,6,7]\n",
    "print(\"Add list to tuple\")\n",
    "t1+=tuple(l1)\n",
    "print(t1)"
   ]
  },
  {
   "cell_type": "markdown",
   "metadata": {},
   "source": [
    "### 07) WAP to remove tuples of length K."
   ]
  },
  {
   "cell_type": "code",
   "execution_count": 58,
   "metadata": {},
   "outputs": [
    {
     "name": "stdin",
     "output_type": "stream",
     "text": [
      "Enter value of k:  3\n"
     ]
    },
    {
     "name": "stdout",
     "output_type": "stream",
     "text": [
      "[(-3, 6, 4), (-4, 16, 12)]\n"
     ]
    }
   ],
   "source": [
    "tuple1=(-3,6,4)\n",
    "tuple2=(8,16)\n",
    "tuple3=(-4,16,12)\n",
    "tuple4=(4,5,10,5)\n",
    "list_tuples=[tuple1,tuple2,tuple3,tuple4]\n",
    "k=int(input(\"Enter value of k: \"))\n",
    "ans=[tuple for tuple in list_tuples if len(tuple)==k]\n",
    "print(ans)"
   ]
  },
  {
   "cell_type": "markdown",
   "metadata": {},
   "source": [
    "### 08) WAP to remove duplicates from tuple."
   ]
  },
  {
   "cell_type": "code",
   "execution_count": 69,
   "metadata": {},
   "outputs": [
    {
     "name": "stdout",
     "output_type": "stream",
     "text": [
      "Tuple: (2, 5, 2, 5, 9, 9, 2)\n",
      "Without duplicates: (2, 5, 9)\n"
     ]
    }
   ],
   "source": [
    "t8=(2,5,2,5,9,9,2)\n",
    "seen=set()\n",
    "ans=()\n",
    "for i in t8:\n",
    "    if i not in seen:\n",
    "        ans+=(i,)\n",
    "    seen.add(i)\n",
    "print(f\"Tuple: {t8}\")\n",
    "print(f\"Without duplicates: {ans}\")"
   ]
  },
  {
   "cell_type": "markdown",
   "metadata": {},
   "source": [
    "### 09) WAP to multiply adjacent elements of a tuple and print that resultant tuple."
   ]
  },
  {
   "cell_type": "code",
   "execution_count": 77,
   "metadata": {},
   "outputs": [
    {
     "name": "stdout",
     "output_type": "stream",
     "text": [
      "(10, 15, 15, 45, 81, 18)\n"
     ]
    }
   ],
   "source": [
    "t8=(2,5,3,5,9,9,2)\n",
    "ans=tuple(t8[i]*t8[i+1] for i in range(0,len(t8)-1))\n",
    "print(ans)"
   ]
  },
  {
   "cell_type": "markdown",
   "metadata": {},
   "source": [
    "### 10) WAP to test if the given tuple is distinct or not."
   ]
  },
  {
   "cell_type": "code",
   "execution_count": 83,
   "metadata": {},
   "outputs": [
    {
     "name": "stdout",
     "output_type": "stream",
     "text": [
      "Distinct\n"
     ]
    }
   ],
   "source": [
    "t9=(2,3,4,5,1,9,7)\n",
    "if(len(t9)==len(set(t9))):\n",
    "    print(\"Distinct\")\n",
    "else:\n",
    "    print(\"Not Distinct\")"
   ]
  },
  {
   "cell_type": "code",
   "execution_count": null,
   "metadata": {},
   "outputs": [],
   "source": []
  }
 ],
 "metadata": {
  "kernelspec": {
   "display_name": "Python 3 (ipykernel)",
   "language": "python",
   "name": "python3"
  },
  "language_info": {
   "codemirror_mode": {
    "name": "ipython",
    "version": 3
   },
   "file_extension": ".py",
   "mimetype": "text/x-python",
   "name": "python",
   "nbconvert_exporter": "python",
   "pygments_lexer": "ipython3",
   "version": "3.12.7"
  }
 },
 "nbformat": 4,
 "nbformat_minor": 4
}
