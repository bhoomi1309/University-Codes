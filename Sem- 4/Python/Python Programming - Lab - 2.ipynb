{
 "cells": [
  {
   "cell_type": "markdown",
   "metadata": {},
   "source": [
    "\n",
    "<a href='https://www.darshan.ac.in/'> <img src='https://www.darshan.ac.in/Content/media/DU_Logo.svg' width=\"250\" height=\"300\"/></a>\n",
    "<pre>\n",
    "<center><b><h1>Python Programming - 2301CS404</b></center>\n",
    "<center><b><h1>Lab - 2</b></center>    \n",
    "<pre>"
   ]
  },
  {
   "cell_type": "markdown",
   "metadata": {},
   "source": [
    "# if..else.."
   ]
  },
  {
   "cell_type": "markdown",
   "metadata": {},
   "source": [
    "### 01) WAP to check whether the given number is positive or negative."
   ]
  },
  {
   "cell_type": "code",
   "execution_count": 5,
   "metadata": {},
   "outputs": [
    {
     "name": "stdout",
     "output_type": "stream",
     "text": [
      "Positive or Negative\n",
      "Enter any number: 0\n",
      "Zero\n"
     ]
    }
   ],
   "source": [
    "print(\"Positive or Negative\");\n",
    "n=int(input(\"Enter any number: \"));\n",
    "if(n>0):\n",
    "    print(\"Positive\");\n",
    "elif(n==0):\n",
    "    print(\"Zero\");\n",
    "else:\n",
    "    print(\"Negative\");"
   ]
  },
  {
   "cell_type": "markdown",
   "metadata": {},
   "source": [
    "### 02) WAP to check whether the given number is odd or even."
   ]
  },
  {
   "cell_type": "code",
   "execution_count": 7,
   "metadata": {},
   "outputs": [
    {
     "name": "stdout",
     "output_type": "stream",
     "text": [
      "Odd or Even\n",
      "Enter any number: 2\n",
      "2  is even\n"
     ]
    }
   ],
   "source": [
    "print(\"Odd or Even\");\n",
    "n=int(input(\"Enter any number: \"));\n",
    "if(n%2==0):\n",
    "    print(n,\" is even\");\n",
    "else:\n",
    "    print(n,\" is odd\");"
   ]
  },
  {
   "cell_type": "markdown",
   "metadata": {},
   "source": [
    "### 03) WAP to find out largest number from given two numbers using simple if and ternary operator."
   ]
  },
  {
   "cell_type": "code",
   "execution_count": 11,
   "metadata": {},
   "outputs": [
    {
     "name": "stdout",
     "output_type": "stream",
     "text": [
      "Largest Number\n",
      "If...else\n",
      "Enter Number 1: 5\n",
      "Enter Number 2: 2\n",
      "Number 1: 5 is largest\n",
      "Ternary operator\n",
      "Enter Number 1: 3\n",
      "Enter Number 2: 6\n",
      "Largest: 6\n"
     ]
    }
   ],
   "source": [
    "print(\"Largest Number\");\n",
    "print(\"If...else\");\n",
    "a=int(input(\"Enter Number 1: \"));\n",
    "b=int(input(\"Enter Number 2: \"));\n",
    "if(a>b):\n",
    "    print(f\"Number 1: {a} is largest\");\n",
    "elif(b>a):\n",
    "    print(f\"Number 2: {b} is largest\");\n",
    "else:\n",
    "    print(\"Both are same\");\n",
    "    \n",
    "print(\"Ternary operator\");\n",
    "a=int(input(\"Enter Number 1: \"));\n",
    "b=int(input(\"Enter Number 2: \"));\n",
    "max=a if a>b else b;\n",
    "print(f\"Largest: {max}\");"
   ]
  },
  {
   "cell_type": "markdown",
   "metadata": {},
   "source": [
    "### 04) WAP to find out largest number from given three numbers."
   ]
  },
  {
   "cell_type": "code",
   "execution_count": 15,
   "metadata": {},
   "outputs": [
    {
     "name": "stdout",
     "output_type": "stream",
     "text": [
      "Largest Number from 3 Numbers\n",
      "Enter Number 1: 5\n",
      "Enter Number 2: 4\n",
      "Enter Number 3: 3\n",
      "Maximum: 5\n"
     ]
    }
   ],
   "source": [
    "print(\"Largest Number from 3 Numbers\");\n",
    "n1=int(input(\"Enter Number 1: \"));\n",
    "n2=int(input(\"Enter Number 2: \"));\n",
    "n3=int(input(\"Enter Number 3: \"));\n",
    "if(n1>n2):\n",
    "    if(n1>n3):\n",
    "        max=n1;\n",
    "    else:\n",
    "        max=n3;\n",
    "else:\n",
    "    if(n2>n3):\n",
    "        max=n2;\n",
    "    else:\n",
    "        max=n3;\n",
    "print(\"Maximum:\",max);"
   ]
  },
  {
   "cell_type": "markdown",
   "metadata": {},
   "source": [
    "### 05) WAP to check whether the given year is leap year or not.\n",
    "[If a year can be divisible by 4 but not divisible by 100 then it is leap year but if it is divisible by 400 then it is leap year]"
   ]
  },
  {
   "cell_type": "code",
   "execution_count": 21,
   "metadata": {},
   "outputs": [
    {
     "name": "stdout",
     "output_type": "stream",
     "text": [
      "Leap Year or Not\n",
      "Enter year: 4000\n",
      "Leap Year\n"
     ]
    }
   ],
   "source": [
    "print(\"Leap Year or Not\");\n",
    "year=int(input(\"Enter year: \"));\n",
    "if((year%4==0 and year%100!=0) or year%400==0):\n",
    "    print(\"Leap Year\");\n",
    "else:\n",
    "    print(\"Not a Leap Year\");"
   ]
  },
  {
   "cell_type": "markdown",
   "metadata": {},
   "source": [
    "### 06) WAP in python to display the name of the day according to the number given by the user."
   ]
  },
  {
   "cell_type": "code",
   "execution_count": 27,
   "metadata": {},
   "outputs": [
    {
     "name": "stdout",
     "output_type": "stream",
     "text": [
      "Day\n",
      "Enter any number: 25\n",
      "Thursday\n"
     ]
    }
   ],
   "source": [
    "print(\"Day\");\n",
    "day=int(input(\"Enter any number: \"));\n",
    "day=day%7;\n",
    "match day:\n",
    "    case 1:\n",
    "        print(\"Monday\");\n",
    "    case 2:\n",
    "        print(\"Tuesday\");\n",
    "    case 3:\n",
    "        print(\"Wednesday\");\n",
    "    case 4:\n",
    "        print(\"Thursday\");\n",
    "    case 5:\n",
    "        print(\"Friday\");\n",
    "    case 6:\n",
    "        print(\"Saturday\");\n",
    "    case 0:\n",
    "        print(\"Sunday\");"
   ]
  },
  {
   "cell_type": "markdown",
   "metadata": {},
   "source": [
    "### 07) WAP to implement simple calculator which performs (add,sub,mul,div) of two no. based on user input."
   ]
  },
  {
   "cell_type": "code",
   "execution_count": 30,
   "metadata": {},
   "outputs": [
    {
     "name": "stdout",
     "output_type": "stream",
     "text": [
      "Calculator\n",
      "Enter any number: 2\n",
      "Enter any number: 5\n",
      "Enter any operator: *\n",
      "2 * 5 = 10\n"
     ]
    }
   ],
   "source": [
    "print(\"Calculator\");\n",
    "num1=int(input(\"Enter any number: \"));\n",
    "num2=int(input(\"Enter any number: \"));\n",
    "operator=input(\"Enter any operator: \");\n",
    "match operator:\n",
    "    case '+':\n",
    "        ans=num1+num2;\n",
    "    case '-':\n",
    "        ans=num1-num2;\n",
    "    case '*':\n",
    "        ans=num1*num2;\n",
    "    case '/':\n",
    "        ans=num1/num2;\n",
    "print(f\"{num1} {operator} {num2} = {ans}\")"
   ]
  },
  {
   "cell_type": "markdown",
   "metadata": {},
   "source": [
    "### 08) WAP to read marks of five subjects. Calculate percentage and print class accordingly. \n",
    "Fail below 35 </br>\n",
    "Pass Class between 35 to 45 </br>\n",
    "Second Class</br>\n",
    "between 45 to 60</br>\n",
    "First Class between 60 to 70</br> \n",
    "Distinction if more than 70"
   ]
  },
  {
   "cell_type": "code",
   "execution_count": 33,
   "metadata": {},
   "outputs": [
    {
     "name": "stdout",
     "output_type": "stream",
     "text": [
      "Result percentage\n",
      "Enter following marks\n",
      "Subject 1: 52\n",
      "Subject 2: 62\n",
      "Subject 3: 40\n",
      "Subject 4: 10\n",
      "Subject 5: 90\n",
      "Result: 50.8%\n",
      "Second Class\n"
     ]
    }
   ],
   "source": [
    "print(\"Result percentage\");\n",
    "print(\"Enter following marks\");\n",
    "s1=int(input(\"Subject 1: \"));\n",
    "s2=int(input(\"Subject 2: \"));\n",
    "s3=int(input(\"Subject 3: \"));\n",
    "s4=int(input(\"Subject 4: \"));\n",
    "s5=int(input(\"Subject 5: \"));\n",
    "percent=(s1+s2+s3+s4+s5)/5;\n",
    "print(f\"Result: {percent}%\");\n",
    "if(percent<35):\n",
    "    print(\"Fail\");\n",
    "elif(percent>=35 and percent<45):\n",
    "    print(\"Pass\");\n",
    "elif(percent>=45 and percent<60):\n",
    "    print(\"Second Class\");\n",
    "elif(percent>=60 and percent<70):\n",
    "    print(\"First Class\");\n",
    "else:\n",
    "    print(\"Distinction\");"
   ]
  },
  {
   "cell_type": "markdown",
   "metadata": {},
   "source": [
    "### 09) Three sides of a triangle are entered through the keyboard, WAP to check whether the triangle is isosceles, equilateral, scalene or right-angled triangle."
   ]
  },
  {
   "cell_type": "code",
   "execution_count": 37,
   "metadata": {},
   "outputs": [
    {
     "name": "stdout",
     "output_type": "stream",
     "text": [
      "Triangle Types\n",
      "Enter Side 1: 3\n",
      "Enter Side 2: 4\n",
      "Enter Side 3: 5\n",
      "Right-angled\n"
     ]
    }
   ],
   "source": [
    "print(\"Triangle Types\");\n",
    "x=int(input(\"Enter Side 1: \"));\n",
    "y=int(input(\"Enter Side 2: \"));\n",
    "z=int(input(\"Enter Side 3: \"));\n",
    "if(x==y and y==z):\n",
    "    print(\"Equilateral\");\n",
    "elif((x**2+y**2==z**2) or (x**2+z**2==y**2) or (z**2+y**2==x**2)):\n",
    "    print(\"Right-angled\")\n",
    "elif(x==y or y==z or z==x):\n",
    "    print(\"Isoceles\");\n",
    "else:\n",
    "    print(\"Scalene\");"
   ]
  },
  {
   "cell_type": "code",
   "execution_count": null,
   "metadata": {},
   "outputs": [],
   "source": []
  },
  {
   "cell_type": "markdown",
   "metadata": {},
   "source": [
    "### 10) WAP to find the second largest number among three user input numbers."
   ]
  },
  {
   "cell_type": "code",
   "execution_count": 40,
   "metadata": {},
   "outputs": [
    {
     "name": "stdout",
     "output_type": "stream",
     "text": [
      "Second largest Number from 3 Numbers\n",
      "Enter Number 1: 9\n",
      "Enter Number 2: 6\n",
      "Enter Number 3: 3\n",
      "Second largest:  6\n"
     ]
    }
   ],
   "source": [
    "print(\"Second largest Number from 3 Numbers\");\n",
    "n1=int(input(\"Enter Number 1: \"));\n",
    "n2=int(input(\"Enter Number 2: \"));\n",
    "n3=int(input(\"Enter Number 3: \"));\n",
    "if(n1>n2):\n",
    "    if(n1>n3):\n",
    "        if(n2>n3):\n",
    "            max=n2;\n",
    "        else:\n",
    "            max=n3;\n",
    "    else:\n",
    "        max=n1;\n",
    "else:\n",
    "    if(n2>n3):\n",
    "        if(n1>n3):\n",
    "            max=n1;\n",
    "        else:\n",
    "            max=n3;\n",
    "    else:\n",
    "        max=n2;\n",
    "print(\"Second largest: \",max);"
   ]
  },
  {
   "cell_type": "markdown",
   "metadata": {},
   "source": [
    "### 11) WAP to calculate electricity bill based on following criteria. Which takes the unit from the user.\n",
    "a. First 1 to 50 units – Rs. 2.60/unit</br>\n",
    "b. Next 50 to 100 units – Rs. 3.25/unit</br>\n",
    "c. Next 100 to 200 units – Rs. 5.26/unit</br>\n",
    "d. above 200 units – Rs. 8.45/unit"
   ]
  },
  {
   "cell_type": "code",
   "execution_count": 41,
   "metadata": {},
   "outputs": [
    {
     "name": "stdout",
     "output_type": "stream",
     "text": [
      "Electricity Bill\n",
      "Enter no. of units: 53\n",
      "Bill Amount: 139.75\n"
     ]
    }
   ],
   "source": [
    "print(\"Electricity Bill\");\n",
    "unit=int(input(\"Enter no. of units: \"));\n",
    "if(unit<=50):\n",
    "    bill=2.60*unit;\n",
    "elif(unit<=100):\n",
    "    bill=(2.60*50)+((unit-50)*3.25);\n",
    "elif(unit<=200):\n",
    "    bill=(2.60*50)+(50*3.25)*((unit-100)*5.26);\n",
    "else:\n",
    "    bill=(2.60*50)+(50*3.25)*(100*5.26)*((unit-200)*8.45);\n",
    "print(\"Bill Amount:\",bill);"
   ]
  },
  {
   "cell_type": "code",
   "execution_count": null,
   "metadata": {},
   "outputs": [],
   "source": []
  }
 ],
 "metadata": {
  "kernelspec": {
   "display_name": "Python 3 (ipykernel)",
   "language": "python",
   "name": "python3"
  },
  "language_info": {
   "codemirror_mode": {
    "name": "ipython",
    "version": 3
   },
   "file_extension": ".py",
   "mimetype": "text/x-python",
   "name": "python",
   "nbconvert_exporter": "python",
   "pygments_lexer": "ipython3",
   "version": "3.10.9"
  }
 },
 "nbformat": 4,
 "nbformat_minor": 4
}
