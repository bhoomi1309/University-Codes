{
 "cells": [
  {
   "cell_type": "markdown",
   "metadata": {},
   "source": [
    "<a href='https://www.darshan.ac.in/'> <img src='https://www.darshan.ac.in/Content/media/DU_Logo.svg' width=\"250\" height=\"300\"/></a>\n",
    "<pre>\n",
    "<center><b><h1>Python Programming - 2301CS404</b></center>\n",
    "<center><b><h1>Lab - 13</b></center>    \n",
    "<pre>"
   ]
  },
  {
   "cell_type": "markdown",
   "metadata": {},
   "source": [
    "# OOP"
   ]
  },
  {
   "cell_type": "markdown",
   "metadata": {},
   "source": [
    "### 01) Write a Program to create a class by name Students, and initialize attributes like name, age, and grade while creating an object."
   ]
  },
  {
   "cell_type": "code",
   "execution_count": 1,
   "metadata": {},
   "outputs": [
    {
     "name": "stdout",
     "output_type": "stream",
     "text": [
      "Bhoomi\n",
      "19\n",
      "A\n"
     ]
    }
   ],
   "source": [
    "class Students:\n",
    "    def __init__(self,name,age,grade):\n",
    "        self.name=name\n",
    "        self.age=age\n",
    "        self.grade=grade\n",
    "    def print(self):\n",
    "        print(self.name)\n",
    "        print(self.age)\n",
    "        print(self.grade)\n",
    "\n",
    "stu=Students(\"Bhoomi\",19,\"A\")\n",
    "stu.print()"
   ]
  },
  {
   "cell_type": "markdown",
   "metadata": {},
   "source": [
    "### 02) Create a class named Bank_Account with Account_No, User_Name, Email,Account_Type and Account_Balance data members. Also create a method GetAccountDetails() and DisplayAccountDetails(). Create main method to demonstrate the Bank_Account class."
   ]
  },
  {
   "cell_type": "code",
   "execution_count": 10,
   "metadata": {},
   "outputs": [
    {
     "name": "stdin",
     "output_type": "stream",
     "text": [
      "Enter Account Number:  12345678\n",
      "Enter Username:  Bhoomi\n",
      "Enter Email:  bhoomi@gmail.com\n",
      "Enter Account Type:  Savings\n",
      "Enter Balance:  2000\n"
     ]
    },
    {
     "name": "stdout",
     "output_type": "stream",
     "text": [
      "12345678\n",
      "Bhoomi\n",
      "bhoomi@gmail.com\n",
      "Savings\n",
      "2000\n"
     ]
    }
   ],
   "source": [
    "class BankAccount:        \n",
    "    def getAccountDetails(self):\n",
    "        self.Account_No=int(input(\"Enter Account Number: \"))\n",
    "        self.User_name=input(\"Enter Username: \")\n",
    "        self.Email=input(\"Enter Email: \")\n",
    "        self.Account_Type=input(\"Enter Account Type: \")\n",
    "        self.Account_Balance=int(input(\"Enter Balance: \"))\n",
    "    def displayAccountDetails(self):\n",
    "        print(self.Account_No)\n",
    "        print(self.User_name)\n",
    "        print(self.Email)\n",
    "        print(self.Account_Type)\n",
    "        print(self.Account_Balance)\n",
    "\n",
    "a=BankAccount()\n",
    "a.getAccountDetails()\n",
    "a.displayAccountDetails()"
   ]
  },
  {
   "cell_type": "markdown",
   "metadata": {},
   "source": [
    "### 03) WAP to create Circle class with area and perimeter function to find area and perimeter of circle."
   ]
  },
  {
   "cell_type": "code",
   "execution_count": 20,
   "metadata": {},
   "outputs": [
    {
     "name": "stdout",
     "output_type": "stream",
     "text": [
      "Area: 153.93804002589985\n",
      "Perimeter: 43.982297150257104\n"
     ]
    }
   ],
   "source": [
    "import math\n",
    "class Circle:\n",
    "    def __init__(self,radius):\n",
    "        self.radius=radius\n",
    "    def area(self):\n",
    "        area=math.pi*self.radius*self.radius\n",
    "        print(f\"Area: {area}\")\n",
    "    def perimeter(self):\n",
    "        perimeter=math.pi*2*self.radius\n",
    "        print(f\"Perimeter: {perimeter}\")\n",
    "\n",
    "c=Circle(7)\n",
    "c.area()\n",
    "c.perimeter()"
   ]
  },
  {
   "cell_type": "markdown",
   "metadata": {},
   "source": [
    "### 04) Create a class for employees that includes attributes such as name, age, salary, and methods to update and display employee information."
   ]
  },
  {
   "cell_type": "code",
   "execution_count": 24,
   "metadata": {},
   "outputs": [
    {
     "name": "stdout",
     "output_type": "stream",
     "text": [
      "Bhoomi\n",
      "19\n",
      "15000\n",
      "Ankit\n",
      "24\n",
      "20000\n"
     ]
    }
   ],
   "source": [
    "class Employee:\n",
    "    def __init__(self,name,age,salary):\n",
    "        self.name=name\n",
    "        self.age=age\n",
    "        self.salary=salary\n",
    "    def print(self):\n",
    "        print(self.name)\n",
    "        print(self.age)\n",
    "        print(self.salary)\n",
    "    def update(self,name,age,salary):\n",
    "        self.name=name\n",
    "        self.age=age\n",
    "        self.salary=salary\n",
    "\n",
    "e=Employee(\"Bhoomi\",19,15000)\n",
    "e.print()\n",
    "e.update(\"Ankit\",24,20000)\n",
    "e.print()"
   ]
  },
  {
   "cell_type": "markdown",
   "metadata": {},
   "source": [
    "### 05) Create a bank account class with methods to deposit, withdraw, and check balance."
   ]
  },
  {
   "cell_type": "code",
   "execution_count": 32,
   "metadata": {},
   "outputs": [
    {
     "name": "stdin",
     "output_type": "stream",
     "text": [
      "Enter Account Number:  12345678\n",
      "Enter Username:  Bhoomi\n",
      "Enter Balance:  1000\n"
     ]
    },
    {
     "name": "stdout",
     "output_type": "stream",
     "text": [
      "12345678\n",
      "Bhoomi\n",
      "1000\n",
      "3000\n",
      "Insufficient Balance\n",
      "3000\n"
     ]
    }
   ],
   "source": [
    "class BankAccount:        \n",
    "    def getAccountDetails(self):\n",
    "        self.Account_No=int(input(\"Enter Account Number: \"))\n",
    "        self.User_name=input(\"Enter Username: \")\n",
    "        self.balance=int(input(\"Enter Balance: \"))\n",
    "    def displayAccountDetails(self):\n",
    "        print(self.Account_No)\n",
    "        print(self.User_name)\n",
    "        print(self.balance)\n",
    "    def deposit(self,balance):\n",
    "        self.balance+=balance\n",
    "    def withdraw(self,balance):\n",
    "        a=self.balance-balance\n",
    "        if(a<0):\n",
    "            print(\"Insufficient Balance\")\n",
    "        else:\n",
    "            self.balance=a\n",
    "    def getBalance(self):\n",
    "        return self.balance\n",
    "\n",
    "a=BankAccount()\n",
    "a.getAccountDetails()\n",
    "a.displayAccountDetails()\n",
    "a.deposit(2000)\n",
    "print(a.getBalance())\n",
    "a.withdraw(3500)\n",
    "print(a.getBalance())"
   ]
  },
  {
   "cell_type": "markdown",
   "metadata": {},
   "source": [
    "### 06) Create a class for managing inventory that includes attributes such as item name, price, quantity, and methods to add, remove, and update items."
   ]
  },
  {
   "cell_type": "code",
   "execution_count": 12,
   "metadata": {},
   "outputs": [
    {
     "name": "stdout",
     "output_type": "stream",
     "text": [
      "Added\n",
      "Added\n",
      "\n",
      "Current Inventory:\n",
      "Laptop - Price: $800, Quantity: 5\n",
      "Mouse - Price: $20, Quantity: 10\n",
      "Removed 3 of Mouse. Remaining: 7\n",
      "Updated\n",
      "\n",
      "Current Inventory:\n",
      "Laptop - Price: $750, Quantity: 250\n",
      "Mouse - Price: $20, Quantity: 7\n"
     ]
    }
   ],
   "source": [
    "class Inventory:\n",
    "    def __init__(self):\n",
    "        self.items=[]\n",
    "    def add(self,name,price,quantity):\n",
    "        for i in self.items:\n",
    "            if i['name']==name:\n",
    "                i['quantity']+=quantity\n",
    "        self.items.append({\"name\":name,\"price\":price,\"quantity\":quantity})\n",
    "        print(\"Added\")\n",
    "    def remove(self,name,quantity):\n",
    "        for i in self.items:\n",
    "            if i['name']==name:\n",
    "                if i[\"quantity\"]>=quantity:\n",
    "                    i[\"quantity\"]-=quantity\n",
    "                    print(f\"Removed {quantity} of {name}. Remaining: {i['quantity']}\")\n",
    "                    return\n",
    "                else:\n",
    "                    print(\"Not enough stock\")\n",
    "                    return\n",
    "        print(\"Not found in inventory\")\n",
    "    def update(self,name,price,quantity):\n",
    "        for i in self.items:\n",
    "            if i[\"name\"]==name:\n",
    "                i[\"price\"]=price\n",
    "                i[\"quantity\"]=quantity\n",
    "                print(\"Updated\")\n",
    "                return\n",
    "        print(\"Not found in inventory\")\n",
    "\n",
    "    def display(self):\n",
    "        print(\"\\nCurrent Inventory:\")\n",
    "        for i in self.items:\n",
    "            print(f\"{i['name']} - Price: ${i['price']}, Quantity: {i['quantity']}\")\n",
    "\n",
    "\n",
    "i = Inventory()\n",
    "i.add(\"Laptop\", 800, 5)\n",
    "i.add(\"Mouse\", 20, 10)\n",
    "i.display()\n",
    "i.remove(\"Mouse\", 3)\n",
    "i.update(\"Laptop\",750,250)\n",
    "i.display()"
   ]
  },
  {
   "cell_type": "markdown",
   "metadata": {},
   "source": [
    "### 07) Create a Class with instance attributes of your choice."
   ]
  },
  {
   "cell_type": "code",
   "execution_count": 2,
   "metadata": {},
   "outputs": [
    {
     "name": "stdout",
     "output_type": "stream",
     "text": [
      "2022 Toyota\n"
     ]
    }
   ],
   "source": [
    "class Car:\n",
    "    def __init__(self, brand, year):\n",
    "        self.brand = brand\n",
    "        self.year = year\n",
    "\n",
    "    def display(self):\n",
    "        return f\"{self.year} {self.brand}\"\n",
    "\n",
    "c=Car(\"Toyota\",2022)\n",
    "print(c.display())"
   ]
  },
  {
   "cell_type": "markdown",
   "metadata": {},
   "source": [
    "### 08) Create one class student_kit\n",
    "#### Within the student_kit class create one class attribute principal name ( Mr ABC )\n",
    "#### Create one attendance method and take input as number of days.\n",
    "#### While creating student take input their name .\n",
    "#### Create one certificate for each student by taking input of number of days present in class."
   ]
  },
  {
   "cell_type": "code",
   "execution_count": 6,
   "metadata": {},
   "outputs": [
    {
     "name": "stdin",
     "output_type": "stream",
     "text": [
      "Enter student name:  Bhoomi\n",
      "Enter number of days present:  25\n"
     ]
    },
    {
     "name": "stdout",
     "output_type": "stream",
     "text": [
      "Attendance Certificate\n",
      "Principal: Mr ABC\n",
      "Student Name: Bhoomi\n",
      "Days Present: 25\n"
     ]
    }
   ],
   "source": [
    "class StudentKit:\n",
    "    principal=\"Mr ABC\"\n",
    "    def __init__(self,name):\n",
    "        self.name=name\n",
    "    def attendance(self,present):\n",
    "        self.present=present\n",
    "    def certificate(self):\n",
    "        print(f\"Attendance Certificate\")\n",
    "        print(f\"Principal: {StudentKit.principal}\")\n",
    "        print(f\"Student Name: {self.name}\")\n",
    "        print(f\"Days Present: {self.present}\")\n",
    "\n",
    "s=StudentKit(input(\"Enter student name: \"))\n",
    "days=int(input(\"Enter number of days present: \"))\n",
    "s.attendance(days)\n",
    "s.certificate()"
   ]
  },
  {
   "cell_type": "markdown",
   "metadata": {},
   "source": [
    "### 09) Define Time class with hour and minute as data member. Also define addition method to add two time objects."
   ]
  },
  {
   "cell_type": "code",
   "execution_count": 20,
   "metadata": {},
   "outputs": [
    {
     "name": "stdout",
     "output_type": "stream",
     "text": [
      "2:30\n",
      "3:55\n",
      "6:25\n"
     ]
    }
   ],
   "source": [
    "class Time:\n",
    "    def __init__(self,h,m):\n",
    "        self.hour=h\n",
    "        self.minute=m\n",
    "    def add(self,t):\n",
    "        self.hour+=t.hour\n",
    "        self.minute+=t.minute\n",
    "        if self.minute>=60:\n",
    "            self.minute-=60\n",
    "            self.hour+=1\n",
    "    def display(self):\n",
    "        print(f\"{self.hour}:{self.minute}\")\n",
    "\n",
    "t1=Time(2,30)\n",
    "t2=Time(3,55)\n",
    "t1.display()\n",
    "t2.display()\n",
    "t1.add(t2)\n",
    "t1.display()"
   ]
  }
 ],
 "metadata": {
  "kernelspec": {
   "display_name": "Python 3 (ipykernel)",
   "language": "python",
   "name": "python3"
  },
  "language_info": {
   "codemirror_mode": {
    "name": "ipython",
    "version": 3
   },
   "file_extension": ".py",
   "mimetype": "text/x-python",
   "name": "python",
   "nbconvert_exporter": "python",
   "pygments_lexer": "ipython3",
   "version": "3.12.7"
  }
 },
 "nbformat": 4,
 "nbformat_minor": 4
}
